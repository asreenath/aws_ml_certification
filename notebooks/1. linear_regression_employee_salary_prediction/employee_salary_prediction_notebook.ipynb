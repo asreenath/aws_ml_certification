{
 "cells": [
  {
   "cell_type": "markdown",
   "metadata": {
    "colab_type": "text",
    "id": "M27qF7CTrBqc"
   },
   "source": [
    "# TASK #1: UNDERSTAND THE PROBLEM STATEMENT "
   ]
  },
  {
   "cell_type": "markdown",
   "metadata": {
    "colab_type": "text",
    "id": "xNl52nl3qiyL"
   },
   "source": [
    "- The objective of this case study is to predict the employee salary based on the number of years of experience. \n",
    "- In simple linear regression, we predict the value of one variable Y based on another variable X.\n",
    "- X is called the independent variable and Y is called the dependant variable.\n",
    "- Why simple? Because it examines relationship between two variables only.\n",
    "- Why linear? when the independent variable increases (or decreases), the dependent variable increases (or decreases) in a linear fashion.\n"
   ]
  },
  {
   "cell_type": "markdown",
   "metadata": {
    "colab_type": "text",
    "id": "zKmFmyaGunc7"
   },
   "source": [
    "# TASK #2: IMPORT LIBRARIES AND DATASETS"
   ]
  },
  {
   "cell_type": "code",
   "execution_count": 54,
   "metadata": {},
   "outputs": [],
   "source": [
    "# install seaborn library\n",
    "# !pip install seaborn\n",
    "# !pip install tensorflow\n",
    "import tensorflow as tf\n",
    "import pandas as pd\n",
    "import numpy as np\n",
    "import seaborn as sns\n",
    "import matplotlib.pyplot as plt"
   ]
  },
  {
   "cell_type": "code",
   "execution_count": 55,
   "metadata": {
    "colab": {},
    "colab_type": "code",
    "id": "tjIiJdM4u1IE"
   },
   "outputs": [],
   "source": [
    "# read the csv file \n",
    "salary_df = pd.read_csv('salary.csv')"
   ]
  },
  {
   "cell_type": "code",
   "execution_count": 56,
   "metadata": {
    "colab": {
     "base_uri": "https://localhost:8080/",
     "height": 204
    },
    "colab_type": "code",
    "id": "q4_wPDKCu5Uc",
    "outputId": "886d2aaf-0205-4f46-96a7-629d0f367d2f"
   },
   "outputs": [
    {
     "data": {
      "text/html": [
       "<div>\n",
       "<style scoped>\n",
       "    .dataframe tbody tr th:only-of-type {\n",
       "        vertical-align: middle;\n",
       "    }\n",
       "\n",
       "    .dataframe tbody tr th {\n",
       "        vertical-align: top;\n",
       "    }\n",
       "\n",
       "    .dataframe thead th {\n",
       "        text-align: right;\n",
       "    }\n",
       "</style>\n",
       "<table border=\"1\" class=\"dataframe\">\n",
       "  <thead>\n",
       "    <tr style=\"text-align: right;\">\n",
       "      <th></th>\n",
       "      <th>YearsExperience</th>\n",
       "      <th>Salary</th>\n",
       "    </tr>\n",
       "  </thead>\n",
       "  <tbody>\n",
       "    <tr>\n",
       "      <th>0</th>\n",
       "      <td>1.1</td>\n",
       "      <td>39343</td>\n",
       "    </tr>\n",
       "    <tr>\n",
       "      <th>1</th>\n",
       "      <td>1.3</td>\n",
       "      <td>46205</td>\n",
       "    </tr>\n",
       "    <tr>\n",
       "      <th>2</th>\n",
       "      <td>1.5</td>\n",
       "      <td>37731</td>\n",
       "    </tr>\n",
       "    <tr>\n",
       "      <th>3</th>\n",
       "      <td>2.0</td>\n",
       "      <td>43525</td>\n",
       "    </tr>\n",
       "    <tr>\n",
       "      <th>4</th>\n",
       "      <td>2.2</td>\n",
       "      <td>39891</td>\n",
       "    </tr>\n",
       "    <tr>\n",
       "      <th>5</th>\n",
       "      <td>2.9</td>\n",
       "      <td>56642</td>\n",
       "    </tr>\n",
       "    <tr>\n",
       "      <th>6</th>\n",
       "      <td>3.0</td>\n",
       "      <td>60150</td>\n",
       "    </tr>\n",
       "    <tr>\n",
       "      <th>7</th>\n",
       "      <td>3.2</td>\n",
       "      <td>54445</td>\n",
       "    </tr>\n",
       "    <tr>\n",
       "      <th>8</th>\n",
       "      <td>3.2</td>\n",
       "      <td>64445</td>\n",
       "    </tr>\n",
       "    <tr>\n",
       "      <th>9</th>\n",
       "      <td>3.7</td>\n",
       "      <td>57189</td>\n",
       "    </tr>\n",
       "    <tr>\n",
       "      <th>10</th>\n",
       "      <td>3.9</td>\n",
       "      <td>63218</td>\n",
       "    </tr>\n",
       "    <tr>\n",
       "      <th>11</th>\n",
       "      <td>4.0</td>\n",
       "      <td>55794</td>\n",
       "    </tr>\n",
       "    <tr>\n",
       "      <th>12</th>\n",
       "      <td>4.0</td>\n",
       "      <td>56957</td>\n",
       "    </tr>\n",
       "    <tr>\n",
       "      <th>13</th>\n",
       "      <td>4.1</td>\n",
       "      <td>57081</td>\n",
       "    </tr>\n",
       "    <tr>\n",
       "      <th>14</th>\n",
       "      <td>4.5</td>\n",
       "      <td>61111</td>\n",
       "    </tr>\n",
       "    <tr>\n",
       "      <th>15</th>\n",
       "      <td>4.9</td>\n",
       "      <td>67938</td>\n",
       "    </tr>\n",
       "    <tr>\n",
       "      <th>16</th>\n",
       "      <td>5.1</td>\n",
       "      <td>66029</td>\n",
       "    </tr>\n",
       "    <tr>\n",
       "      <th>17</th>\n",
       "      <td>5.3</td>\n",
       "      <td>83088</td>\n",
       "    </tr>\n",
       "    <tr>\n",
       "      <th>18</th>\n",
       "      <td>5.9</td>\n",
       "      <td>81363</td>\n",
       "    </tr>\n",
       "    <tr>\n",
       "      <th>19</th>\n",
       "      <td>6.0</td>\n",
       "      <td>93940</td>\n",
       "    </tr>\n",
       "    <tr>\n",
       "      <th>20</th>\n",
       "      <td>6.8</td>\n",
       "      <td>91738</td>\n",
       "    </tr>\n",
       "    <tr>\n",
       "      <th>21</th>\n",
       "      <td>7.1</td>\n",
       "      <td>98273</td>\n",
       "    </tr>\n",
       "    <tr>\n",
       "      <th>22</th>\n",
       "      <td>7.9</td>\n",
       "      <td>101302</td>\n",
       "    </tr>\n",
       "    <tr>\n",
       "      <th>23</th>\n",
       "      <td>8.2</td>\n",
       "      <td>113812</td>\n",
       "    </tr>\n",
       "    <tr>\n",
       "      <th>24</th>\n",
       "      <td>8.7</td>\n",
       "      <td>109431</td>\n",
       "    </tr>\n",
       "    <tr>\n",
       "      <th>25</th>\n",
       "      <td>9.0</td>\n",
       "      <td>105582</td>\n",
       "    </tr>\n",
       "    <tr>\n",
       "      <th>26</th>\n",
       "      <td>9.5</td>\n",
       "      <td>116969</td>\n",
       "    </tr>\n",
       "    <tr>\n",
       "      <th>27</th>\n",
       "      <td>9.6</td>\n",
       "      <td>112635</td>\n",
       "    </tr>\n",
       "    <tr>\n",
       "      <th>28</th>\n",
       "      <td>10.3</td>\n",
       "      <td>122391</td>\n",
       "    </tr>\n",
       "    <tr>\n",
       "      <th>29</th>\n",
       "      <td>10.5</td>\n",
       "      <td>121872</td>\n",
       "    </tr>\n",
       "    <tr>\n",
       "      <th>30</th>\n",
       "      <td>11.2</td>\n",
       "      <td>127345</td>\n",
       "    </tr>\n",
       "    <tr>\n",
       "      <th>31</th>\n",
       "      <td>11.5</td>\n",
       "      <td>126756</td>\n",
       "    </tr>\n",
       "    <tr>\n",
       "      <th>32</th>\n",
       "      <td>12.3</td>\n",
       "      <td>128765</td>\n",
       "    </tr>\n",
       "    <tr>\n",
       "      <th>33</th>\n",
       "      <td>12.9</td>\n",
       "      <td>135675</td>\n",
       "    </tr>\n",
       "    <tr>\n",
       "      <th>34</th>\n",
       "      <td>13.5</td>\n",
       "      <td>139465</td>\n",
       "    </tr>\n",
       "  </tbody>\n",
       "</table>\n",
       "</div>"
      ],
      "text/plain": [
       "    YearsExperience  Salary\n",
       "0               1.1   39343\n",
       "1               1.3   46205\n",
       "2               1.5   37731\n",
       "3               2.0   43525\n",
       "4               2.2   39891\n",
       "5               2.9   56642\n",
       "6               3.0   60150\n",
       "7               3.2   54445\n",
       "8               3.2   64445\n",
       "9               3.7   57189\n",
       "10              3.9   63218\n",
       "11              4.0   55794\n",
       "12              4.0   56957\n",
       "13              4.1   57081\n",
       "14              4.5   61111\n",
       "15              4.9   67938\n",
       "16              5.1   66029\n",
       "17              5.3   83088\n",
       "18              5.9   81363\n",
       "19              6.0   93940\n",
       "20              6.8   91738\n",
       "21              7.1   98273\n",
       "22              7.9  101302\n",
       "23              8.2  113812\n",
       "24              8.7  109431\n",
       "25              9.0  105582\n",
       "26              9.5  116969\n",
       "27              9.6  112635\n",
       "28             10.3  122391\n",
       "29             10.5  121872\n",
       "30             11.2  127345\n",
       "31             11.5  126756\n",
       "32             12.3  128765\n",
       "33             12.9  135675\n",
       "34             13.5  139465"
      ]
     },
     "execution_count": 56,
     "metadata": {},
     "output_type": "execute_result"
    }
   ],
   "source": [
    "salary_df"
   ]
  },
  {
   "cell_type": "markdown",
   "metadata": {},
   "source": [
    "MINI CHALLENGE\n",
    " - Use head and tail methods to print the first and last 7 rows of the dataframe\n",
    " - Try to find the maximum salary value in the dataframe "
   ]
  },
  {
   "cell_type": "code",
   "execution_count": null,
   "metadata": {},
   "outputs": [],
   "source": []
  },
  {
   "cell_type": "markdown",
   "metadata": {
    "colab_type": "text",
    "id": "tMcr7xqMQre2"
   },
   "source": [
    "# TASK #3: PERFORM EXPLORATORY DATA ANALYSIS AND VISUALIZATION"
   ]
  },
  {
   "cell_type": "code",
   "execution_count": 57,
   "metadata": {},
   "outputs": [
    {
     "data": {
      "text/plain": [
       "<Axes: >"
      ]
     },
     "execution_count": 57,
     "metadata": {},
     "output_type": "execute_result"
    },
    {
     "data": {
      "image/png": "[encoded data removed]",
      "text/plain": [
       "<Figure size 640x480 with 1 Axes>"
      ]
     },
     "metadata": {},
     "output_type": "display_data"
    }
   ],
   "source": [
    "# check if there are any Null values\n",
    "sns.heatmap(salary_df.isnull(), yticklabels = False, cbar = False, cmap=\"Blues\")\n"
   ]
  },
  {
   "cell_type": "code",
   "execution_count": 58,
   "metadata": {
    "colab": {
     "base_uri": "https://localhost:8080/",
     "height": 272
    },
    "colab_type": "code",
    "id": "hMq3-KWOx0e1",
    "outputId": "22a5b184-1f07-46ef-dfc1-f8377fd7042f",
    "scrolled": true
   },
   "outputs": [
    {
     "name": "stdout",
     "output_type": "stream",
     "text": [
      "<class 'pandas.core.frame.DataFrame'>\n",
      "RangeIndex: 35 entries, 0 to 34\n",
      "Data columns (total 2 columns):\n",
      " #   Column           Non-Null Count  Dtype  \n",
      "---  ------           --------------  -----  \n",
      " 0   YearsExperience  35 non-null     float64\n",
      " 1   Salary           35 non-null     int64  \n",
      "dtypes: float64(1), int64(1)\n",
      "memory usage: 688.0 bytes\n"
     ]
    }
   ],
   "source": [
    "# Check the dataframe info\n",
    "\n",
    "salary_df.info()"
   ]
  },
  {
   "cell_type": "code",
   "execution_count": 59,
   "metadata": {
    "colab": {
     "base_uri": "https://localhost:8080/",
     "height": 297
    },
    "colab_type": "code",
    "id": "Nn1Oxk2SzPX3",
    "outputId": "95f0265a-5e75-4a32-d771-4b3d15850c3c"
   },
   "outputs": [
    {
     "data": {
      "text/html": [
       "<div>\n",
       "<style scoped>\n",
       "    .dataframe tbody tr th:only-of-type {\n",
       "        vertical-align: middle;\n",
       "    }\n",
       "\n",
       "    .dataframe tbody tr th {\n",
       "        vertical-align: top;\n",
       "    }\n",
       "\n",
       "    .dataframe thead th {\n",
       "        text-align: right;\n",
       "    }\n",
       "</style>\n",
       "<table border=\"1\" class=\"dataframe\">\n",
       "  <thead>\n",
       "    <tr style=\"text-align: right;\">\n",
       "      <th></th>\n",
       "      <th>YearsExperience</th>\n",
       "      <th>Salary</th>\n",
       "    </tr>\n",
       "  </thead>\n",
       "  <tbody>\n",
       "    <tr>\n",
       "      <th>count</th>\n",
       "      <td>35.000000</td>\n",
       "      <td>35.000000</td>\n",
       "    </tr>\n",
       "    <tr>\n",
       "      <th>mean</th>\n",
       "      <td>6.308571</td>\n",
       "      <td>83945.600000</td>\n",
       "    </tr>\n",
       "    <tr>\n",
       "      <th>std</th>\n",
       "      <td>3.618610</td>\n",
       "      <td>32162.673003</td>\n",
       "    </tr>\n",
       "    <tr>\n",
       "      <th>min</th>\n",
       "      <td>1.100000</td>\n",
       "      <td>37731.000000</td>\n",
       "    </tr>\n",
       "    <tr>\n",
       "      <th>25%</th>\n",
       "      <td>3.450000</td>\n",
       "      <td>57019.000000</td>\n",
       "    </tr>\n",
       "    <tr>\n",
       "      <th>50%</th>\n",
       "      <td>5.300000</td>\n",
       "      <td>81363.000000</td>\n",
       "    </tr>\n",
       "    <tr>\n",
       "      <th>75%</th>\n",
       "      <td>9.250000</td>\n",
       "      <td>113223.500000</td>\n",
       "    </tr>\n",
       "    <tr>\n",
       "      <th>max</th>\n",
       "      <td>13.500000</td>\n",
       "      <td>139465.000000</td>\n",
       "    </tr>\n",
       "  </tbody>\n",
       "</table>\n",
       "</div>"
      ],
      "text/plain": [
       "       YearsExperience         Salary\n",
       "count        35.000000      35.000000\n",
       "mean          6.308571   83945.600000\n",
       "std           3.618610   32162.673003\n",
       "min           1.100000   37731.000000\n",
       "25%           3.450000   57019.000000\n",
       "50%           5.300000   81363.000000\n",
       "75%           9.250000  113223.500000\n",
       "max          13.500000  139465.000000"
      ]
     },
     "execution_count": 59,
     "metadata": {},
     "output_type": "execute_result"
    }
   ],
   "source": [
    "# Statistical summary of the dataframe\n",
    "\n",
    "salary_df.describe()"
   ]
  },
  {
   "cell_type": "markdown",
   "metadata": {},
   "source": [
    "MINI CHALLENGE\n",
    " - What are the number of years of experience corresponding to employees with minimum and maximim salaries?"
   ]
  },
  {
   "cell_type": "code",
   "execution_count": null,
   "metadata": {},
   "outputs": [],
   "source": []
  },
  {
   "cell_type": "code",
   "execution_count": 60,
   "metadata": {},
   "outputs": [
    {
     "data": {
      "text/plain": [
       "array([[<Axes: title={'center': 'YearsExperience'}>,\n",
       "        <Axes: title={'center': 'Salary'}>]], dtype=object)"
      ]
     },
     "execution_count": 60,
     "metadata": {},
     "output_type": "execute_result"
    },
    {
     "data": {
      "image/png": "[encoded data removed]",
      "text/plain": [
       "<Figure size 2000x1000 with 2 Axes>"
      ]
     },
     "metadata": {},
     "output_type": "display_data"
    }
   ],
   "source": [
    "salary_df.hist(bins = 30, figsize = (20,10), color = 'r')\n"
   ]
  },
  {
   "cell_type": "code",
   "execution_count": 61,
   "metadata": {
    "colab": {
     "base_uri": "https://localhost:8080/",
     "height": 1000
    },
    "colab_type": "code",
    "id": "Ka9uFRXSkWHw",
    "outputId": "f42a681e-93d4-4b1f-a29c-f58fc8a6f974"
   },
   "outputs": [
    {
     "data": {
      "text/plain": [
       "<seaborn.axisgrid.PairGrid at 0xffff488a8c40>"
      ]
     },
     "execution_count": 61,
     "metadata": {},
     "output_type": "execute_result"
    },
    {
     "data": {
      "image/png": "[encoded data removed]",
      "text/plain": [
       "<Figure size 500x500 with 6 Axes>"
      ]
     },
     "metadata": {},
     "output_type": "display_data"
    }
   ],
   "source": [
    "# plot pairplot\n",
    "\n",
    "sns.pairplot(salary_df)"
   ]
  },
  {
   "cell_type": "code",
   "execution_count": 62,
   "metadata": {
    "colab": {
     "base_uri": "https://localhost:8080/",
     "height": 297
    },
    "colab_type": "code",
    "id": "9q-tFxvskWDa",
    "outputId": "8834e9ec-7676-4e86-c5e7-20f4e9eccbcb"
   },
   "outputs": [
    {
     "data": {
      "image/png": "[encoded data removed]",
      "text/plain": [
       "<Figure size 640x480 with 2 Axes>"
      ]
     },
     "metadata": {},
     "output_type": "display_data"
    }
   ],
   "source": [
    "corr_matrix = salary_df.corr()\n",
    "sns.heatmap(corr_matrix, annot = True)\n",
    "plt.show()"
   ]
  },
  {
   "cell_type": "markdown",
   "metadata": {},
   "source": [
    "MINI CHALLENGE\n",
    "- Use regplot in Seaborn to obtain a straight line fit between \"salary\" and \"years of experience\""
   ]
  },
  {
   "cell_type": "code",
   "execution_count": null,
   "metadata": {},
   "outputs": [],
   "source": []
  },
  {
   "cell_type": "markdown",
   "metadata": {
    "colab_type": "text",
    "id": "53qDZFRn3-S1"
   },
   "source": [
    "# TASK #4: CREATE TRAINING AND TESTING DATASET"
   ]
  },
  {
   "cell_type": "code",
   "execution_count": 63,
   "metadata": {
    "colab": {},
    "colab_type": "code",
    "id": "4OXZB2F21e4H"
   },
   "outputs": [],
   "source": [
    "X = salary_df[['YearsExperience']]\n",
    "y = salary_df[['Salary']]\n"
   ]
  },
  {
   "cell_type": "code",
   "execution_count": 64,
   "metadata": {
    "scrolled": true
   },
   "outputs": [
    {
     "data": {
      "text/html": [
       "<div>\n",
       "<style scoped>\n",
       "    .dataframe tbody tr th:only-of-type {\n",
       "        vertical-align: middle;\n",
       "    }\n",
       "\n",
       "    .dataframe tbody tr th {\n",
       "        vertical-align: top;\n",
       "    }\n",
       "\n",
       "    .dataframe thead th {\n",
       "        text-align: right;\n",
       "    }\n",
       "</style>\n",
       "<table border=\"1\" class=\"dataframe\">\n",
       "  <thead>\n",
       "    <tr style=\"text-align: right;\">\n",
       "      <th></th>\n",
       "      <th>YearsExperience</th>\n",
       "    </tr>\n",
       "  </thead>\n",
       "  <tbody>\n",
       "    <tr>\n",
       "      <th>0</th>\n",
       "      <td>1.1</td>\n",
       "    </tr>\n",
       "    <tr>\n",
       "      <th>1</th>\n",
       "      <td>1.3</td>\n",
       "    </tr>\n",
       "    <tr>\n",
       "      <th>2</th>\n",
       "      <td>1.5</td>\n",
       "    </tr>\n",
       "    <tr>\n",
       "      <th>3</th>\n",
       "      <td>2.0</td>\n",
       "    </tr>\n",
       "    <tr>\n",
       "      <th>4</th>\n",
       "      <td>2.2</td>\n",
       "    </tr>\n",
       "    <tr>\n",
       "      <th>5</th>\n",
       "      <td>2.9</td>\n",
       "    </tr>\n",
       "    <tr>\n",
       "      <th>6</th>\n",
       "      <td>3.0</td>\n",
       "    </tr>\n",
       "    <tr>\n",
       "      <th>7</th>\n",
       "      <td>3.2</td>\n",
       "    </tr>\n",
       "    <tr>\n",
       "      <th>8</th>\n",
       "      <td>3.2</td>\n",
       "    </tr>\n",
       "    <tr>\n",
       "      <th>9</th>\n",
       "      <td>3.7</td>\n",
       "    </tr>\n",
       "    <tr>\n",
       "      <th>10</th>\n",
       "      <td>3.9</td>\n",
       "    </tr>\n",
       "    <tr>\n",
       "      <th>11</th>\n",
       "      <td>4.0</td>\n",
       "    </tr>\n",
       "    <tr>\n",
       "      <th>12</th>\n",
       "      <td>4.0</td>\n",
       "    </tr>\n",
       "    <tr>\n",
       "      <th>13</th>\n",
       "      <td>4.1</td>\n",
       "    </tr>\n",
       "    <tr>\n",
       "      <th>14</th>\n",
       "      <td>4.5</td>\n",
       "    </tr>\n",
       "    <tr>\n",
       "      <th>15</th>\n",
       "      <td>4.9</td>\n",
       "    </tr>\n",
       "    <tr>\n",
       "      <th>16</th>\n",
       "      <td>5.1</td>\n",
       "    </tr>\n",
       "    <tr>\n",
       "      <th>17</th>\n",
       "      <td>5.3</td>\n",
       "    </tr>\n",
       "    <tr>\n",
       "      <th>18</th>\n",
       "      <td>5.9</td>\n",
       "    </tr>\n",
       "    <tr>\n",
       "      <th>19</th>\n",
       "      <td>6.0</td>\n",
       "    </tr>\n",
       "    <tr>\n",
       "      <th>20</th>\n",
       "      <td>6.8</td>\n",
       "    </tr>\n",
       "    <tr>\n",
       "      <th>21</th>\n",
       "      <td>7.1</td>\n",
       "    </tr>\n",
       "    <tr>\n",
       "      <th>22</th>\n",
       "      <td>7.9</td>\n",
       "    </tr>\n",
       "    <tr>\n",
       "      <th>23</th>\n",
       "      <td>8.2</td>\n",
       "    </tr>\n",
       "    <tr>\n",
       "      <th>24</th>\n",
       "      <td>8.7</td>\n",
       "    </tr>\n",
       "    <tr>\n",
       "      <th>25</th>\n",
       "      <td>9.0</td>\n",
       "    </tr>\n",
       "    <tr>\n",
       "      <th>26</th>\n",
       "      <td>9.5</td>\n",
       "    </tr>\n",
       "    <tr>\n",
       "      <th>27</th>\n",
       "      <td>9.6</td>\n",
       "    </tr>\n",
       "    <tr>\n",
       "      <th>28</th>\n",
       "      <td>10.3</td>\n",
       "    </tr>\n",
       "    <tr>\n",
       "      <th>29</th>\n",
       "      <td>10.5</td>\n",
       "    </tr>\n",
       "    <tr>\n",
       "      <th>30</th>\n",
       "      <td>11.2</td>\n",
       "    </tr>\n",
       "    <tr>\n",
       "      <th>31</th>\n",
       "      <td>11.5</td>\n",
       "    </tr>\n",
       "    <tr>\n",
       "      <th>32</th>\n",
       "      <td>12.3</td>\n",
       "    </tr>\n",
       "    <tr>\n",
       "      <th>33</th>\n",
       "      <td>12.9</td>\n",
       "    </tr>\n",
       "    <tr>\n",
       "      <th>34</th>\n",
       "      <td>13.5</td>\n",
       "    </tr>\n",
       "  </tbody>\n",
       "</table>\n",
       "</div>"
      ],
      "text/plain": [
       "    YearsExperience\n",
       "0               1.1\n",
       "1               1.3\n",
       "2               1.5\n",
       "3               2.0\n",
       "4               2.2\n",
       "5               2.9\n",
       "6               3.0\n",
       "7               3.2\n",
       "8               3.2\n",
       "9               3.7\n",
       "10              3.9\n",
       "11              4.0\n",
       "12              4.0\n",
       "13              4.1\n",
       "14              4.5\n",
       "15              4.9\n",
       "16              5.1\n",
       "17              5.3\n",
       "18              5.9\n",
       "19              6.0\n",
       "20              6.8\n",
       "21              7.1\n",
       "22              7.9\n",
       "23              8.2\n",
       "24              8.7\n",
       "25              9.0\n",
       "26              9.5\n",
       "27              9.6\n",
       "28             10.3\n",
       "29             10.5\n",
       "30             11.2\n",
       "31             11.5\n",
       "32             12.3\n",
       "33             12.9\n",
       "34             13.5"
      ]
     },
     "execution_count": 64,
     "metadata": {},
     "output_type": "execute_result"
    }
   ],
   "source": [
    "X"
   ]
  },
  {
   "cell_type": "code",
   "execution_count": 65,
   "metadata": {},
   "outputs": [
    {
     "data": {
      "text/html": [
       "<div>\n",
       "<style scoped>\n",
       "    .dataframe tbody tr th:only-of-type {\n",
       "        vertical-align: middle;\n",
       "    }\n",
       "\n",
       "    .dataframe tbody tr th {\n",
       "        vertical-align: top;\n",
       "    }\n",
       "\n",
       "    .dataframe thead th {\n",
       "        text-align: right;\n",
       "    }\n",
       "</style>\n",
       "<table border=\"1\" class=\"dataframe\">\n",
       "  <thead>\n",
       "    <tr style=\"text-align: right;\">\n",
       "      <th></th>\n",
       "      <th>Salary</th>\n",
       "    </tr>\n",
       "  </thead>\n",
       "  <tbody>\n",
       "    <tr>\n",
       "      <th>0</th>\n",
       "      <td>39343</td>\n",
       "    </tr>\n",
       "    <tr>\n",
       "      <th>1</th>\n",
       "      <td>46205</td>\n",
       "    </tr>\n",
       "    <tr>\n",
       "      <th>2</th>\n",
       "      <td>37731</td>\n",
       "    </tr>\n",
       "    <tr>\n",
       "      <th>3</th>\n",
       "      <td>43525</td>\n",
       "    </tr>\n",
       "    <tr>\n",
       "      <th>4</th>\n",
       "      <td>39891</td>\n",
       "    </tr>\n",
       "    <tr>\n",
       "      <th>5</th>\n",
       "      <td>56642</td>\n",
       "    </tr>\n",
       "    <tr>\n",
       "      <th>6</th>\n",
       "      <td>60150</td>\n",
       "    </tr>\n",
       "    <tr>\n",
       "      <th>7</th>\n",
       "      <td>54445</td>\n",
       "    </tr>\n",
       "    <tr>\n",
       "      <th>8</th>\n",
       "      <td>64445</td>\n",
       "    </tr>\n",
       "    <tr>\n",
       "      <th>9</th>\n",
       "      <td>57189</td>\n",
       "    </tr>\n",
       "    <tr>\n",
       "      <th>10</th>\n",
       "      <td>63218</td>\n",
       "    </tr>\n",
       "    <tr>\n",
       "      <th>11</th>\n",
       "      <td>55794</td>\n",
       "    </tr>\n",
       "    <tr>\n",
       "      <th>12</th>\n",
       "      <td>56957</td>\n",
       "    </tr>\n",
       "    <tr>\n",
       "      <th>13</th>\n",
       "      <td>57081</td>\n",
       "    </tr>\n",
       "    <tr>\n",
       "      <th>14</th>\n",
       "      <td>61111</td>\n",
       "    </tr>\n",
       "    <tr>\n",
       "      <th>15</th>\n",
       "      <td>67938</td>\n",
       "    </tr>\n",
       "    <tr>\n",
       "      <th>16</th>\n",
       "      <td>66029</td>\n",
       "    </tr>\n",
       "    <tr>\n",
       "      <th>17</th>\n",
       "      <td>83088</td>\n",
       "    </tr>\n",
       "    <tr>\n",
       "      <th>18</th>\n",
       "      <td>81363</td>\n",
       "    </tr>\n",
       "    <tr>\n",
       "      <th>19</th>\n",
       "      <td>93940</td>\n",
       "    </tr>\n",
       "    <tr>\n",
       "      <th>20</th>\n",
       "      <td>91738</td>\n",
       "    </tr>\n",
       "    <tr>\n",
       "      <th>21</th>\n",
       "      <td>98273</td>\n",
       "    </tr>\n",
       "    <tr>\n",
       "      <th>22</th>\n",
       "      <td>101302</td>\n",
       "    </tr>\n",
       "    <tr>\n",
       "      <th>23</th>\n",
       "      <td>113812</td>\n",
       "    </tr>\n",
       "    <tr>\n",
       "      <th>24</th>\n",
       "      <td>109431</td>\n",
       "    </tr>\n",
       "    <tr>\n",
       "      <th>25</th>\n",
       "      <td>105582</td>\n",
       "    </tr>\n",
       "    <tr>\n",
       "      <th>26</th>\n",
       "      <td>116969</td>\n",
       "    </tr>\n",
       "    <tr>\n",
       "      <th>27</th>\n",
       "      <td>112635</td>\n",
       "    </tr>\n",
       "    <tr>\n",
       "      <th>28</th>\n",
       "      <td>122391</td>\n",
       "    </tr>\n",
       "    <tr>\n",
       "      <th>29</th>\n",
       "      <td>121872</td>\n",
       "    </tr>\n",
       "    <tr>\n",
       "      <th>30</th>\n",
       "      <td>127345</td>\n",
       "    </tr>\n",
       "    <tr>\n",
       "      <th>31</th>\n",
       "      <td>126756</td>\n",
       "    </tr>\n",
       "    <tr>\n",
       "      <th>32</th>\n",
       "      <td>128765</td>\n",
       "    </tr>\n",
       "    <tr>\n",
       "      <th>33</th>\n",
       "      <td>135675</td>\n",
       "    </tr>\n",
       "    <tr>\n",
       "      <th>34</th>\n",
       "      <td>139465</td>\n",
       "    </tr>\n",
       "  </tbody>\n",
       "</table>\n",
       "</div>"
      ],
      "text/plain": [
       "    Salary\n",
       "0    39343\n",
       "1    46205\n",
       "2    37731\n",
       "3    43525\n",
       "4    39891\n",
       "5    56642\n",
       "6    60150\n",
       "7    54445\n",
       "8    64445\n",
       "9    57189\n",
       "10   63218\n",
       "11   55794\n",
       "12   56957\n",
       "13   57081\n",
       "14   61111\n",
       "15   67938\n",
       "16   66029\n",
       "17   83088\n",
       "18   81363\n",
       "19   93940\n",
       "20   91738\n",
       "21   98273\n",
       "22  101302\n",
       "23  113812\n",
       "24  109431\n",
       "25  105582\n",
       "26  116969\n",
       "27  112635\n",
       "28  122391\n",
       "29  121872\n",
       "30  127345\n",
       "31  126756\n",
       "32  128765\n",
       "33  135675\n",
       "34  139465"
      ]
     },
     "execution_count": 65,
     "metadata": {},
     "output_type": "execute_result"
    }
   ],
   "source": [
    "y"
   ]
  },
  {
   "cell_type": "code",
   "execution_count": 66,
   "metadata": {
    "colab": {
     "base_uri": "https://localhost:8080/",
     "height": 34
    },
    "colab_type": "code",
    "id": "XpGU63Ne1e9P",
    "outputId": "e16c74ca-dc1c-416c-dc44-7f927bb99bc6"
   },
   "outputs": [
    {
     "data": {
      "text/plain": [
       "(35, 1)"
      ]
     },
     "execution_count": 66,
     "metadata": {},
     "output_type": "execute_result"
    }
   ],
   "source": [
    "X.shape"
   ]
  },
  {
   "cell_type": "code",
   "execution_count": 67,
   "metadata": {
    "colab": {
     "base_uri": "https://localhost:8080/",
     "height": 34
    },
    "colab_type": "code",
    "id": "OjGj0RALA0qZ",
    "outputId": "26559a6c-880b-45b4-a1e8-3c4b92bea889"
   },
   "outputs": [
    {
     "data": {
      "text/plain": [
       "(35, 1)"
      ]
     },
     "execution_count": 67,
     "metadata": {},
     "output_type": "execute_result"
    }
   ],
   "source": [
    "y.shape"
   ]
  },
  {
   "cell_type": "code",
   "execution_count": 68,
   "metadata": {
    "colab": {},
    "colab_type": "code",
    "id": "jIeiK1maA6mm"
   },
   "outputs": [],
   "source": [
    "X = np.array(X).astype('float32')\n",
    "y = np.array(y).astype('float32')"
   ]
  },
  {
   "cell_type": "code",
   "execution_count": 69,
   "metadata": {},
   "outputs": [
    {
     "data": {
      "text/plain": [
       "array([[ 1.1],\n",
       "       [ 1.3],\n",
       "       [ 1.5],\n",
       "       [ 2. ],\n",
       "       [ 2.2],\n",
       "       [ 2.9],\n",
       "       [ 3. ],\n",
       "       [ 3.2],\n",
       "       [ 3.2],\n",
       "       [ 3.7],\n",
       "       [ 3.9],\n",
       "       [ 4. ],\n",
       "       [ 4. ],\n",
       "       [ 4.1],\n",
       "       [ 4.5],\n",
       "       [ 4.9],\n",
       "       [ 5.1],\n",
       "       [ 5.3],\n",
       "       [ 5.9],\n",
       "       [ 6. ],\n",
       "       [ 6.8],\n",
       "       [ 7.1],\n",
       "       [ 7.9],\n",
       "       [ 8.2],\n",
       "       [ 8.7],\n",
       "       [ 9. ],\n",
       "       [ 9.5],\n",
       "       [ 9.6],\n",
       "       [10.3],\n",
       "       [10.5],\n",
       "       [11.2],\n",
       "       [11.5],\n",
       "       [12.3],\n",
       "       [12.9],\n",
       "       [13.5]], dtype=float32)"
      ]
     },
     "execution_count": 69,
     "metadata": {},
     "output_type": "execute_result"
    }
   ],
   "source": [
    "# Only take the numerical variables and scale them\n",
    "X "
   ]
  },
  {
   "cell_type": "code",
   "execution_count": 70,
   "metadata": {
    "colab": {},
    "colab_type": "code",
    "id": "GoReLFfnA6uF"
   },
   "outputs": [],
   "source": [
    "# split the data into test and train sets\n",
    "from sklearn.model_selection import train_test_split\n",
    "\n",
    "X_train, X_test, y_train, y_test = train_test_split(X, y, test_size = 0.2)\n"
   ]
  },
  {
   "cell_type": "markdown",
   "metadata": {},
   "source": [
    "MINI CHALLENGE\n",
    " - Try splitting the data into 75% for training and the rest for testing\n",
    " - Verify that the split was successful by obtaining the shape of both X_train and X_test\n",
    " - Did you notice any change in the order of the data? why?"
   ]
  },
  {
   "cell_type": "code",
   "execution_count": null,
   "metadata": {},
   "outputs": [],
   "source": []
  },
  {
   "cell_type": "markdown",
   "metadata": {
    "colab_type": "text",
    "id": "idWHLv5alF4C"
   },
   "source": [
    "# TASK #5: TRAIN A LINEAR REGRESSION MODEL IN SK-LEARN (NOTE THAT SAGEMAKER BUILT-IN ALGORITHMS ARE NOT USED HERE)"
   ]
  },
  {
   "cell_type": "code",
   "execution_count": 71,
   "metadata": {
    "colab": {
     "base_uri": "https://localhost:8080/",
     "height": 34
    },
    "colab_type": "code",
    "id": "yHL-6mKwBURs",
    "outputId": "10d71b6d-9c2b-4bab-8b27-d3c5883e6a25"
   },
   "outputs": [
    {
     "data": {
      "text/html": [
       "<style>#sk-container-id-1 {color: black;background-color: white;}#sk-container-id-1 pre{padding: 0;}#sk-container-id-1 div.sk-toggleable {background-color: white;}#sk-container-id-1 label.sk-toggleable__label {cursor: pointer;display: block;width: 100%;margin-bottom: 0;padding: 0.3em;box-sizing: border-box;text-align: center;}#sk-container-id-1 label.sk-toggleable__label-arrow:before {content: \"▸\";float: left;margin-right: 0.25em;color: #696969;}#sk-container-id-1 label.sk-toggleable__label-arrow:hover:before {color: black;}#sk-container-id-1 div.sk-estimator:hover label.sk-toggleable__label-arrow:before {color: black;}#sk-container-id-1 div.sk-toggleable__content {max-height: 0;max-width: 0;overflow: hidden;text-align: left;background-color: #f0f8ff;}#sk-container-id-1 div.sk-toggleable__content pre {margin: 0.2em;color: black;border-radius: 0.25em;background-color: #f0f8ff;}#sk-container-id-1 input.sk-toggleable__control:checked~div.sk-toggleable__content {max-height: 200px;max-width: 100%;overflow: auto;}#sk-container-id-1 input.sk-toggleable__control:checked~label.sk-toggleable__label-arrow:before {content: \"▾\";}#sk-container-id-1 div.sk-estimator input.sk-toggleable__control:checked~label.sk-toggleable__label {background-color: #d4ebff;}#sk-container-id-1 div.sk-label input.sk-toggleable__control:checked~label.sk-toggleable__label {background-color: #d4ebff;}#sk-container-id-1 input.sk-hidden--visually {border: 0;clip: rect(1px 1px 1px 1px);clip: rect(1px, 1px, 1px, 1px);height: 1px;margin: -1px;overflow: hidden;padding: 0;position: absolute;width: 1px;}#sk-container-id-1 div.sk-estimator {font-family: monospace;background-color: #f0f8ff;border: 1px dotted black;border-radius: 0.25em;box-sizing: border-box;margin-bottom: 0.5em;}#sk-container-id-1 div.sk-estimator:hover {background-color: #d4ebff;}#sk-container-id-1 div.sk-parallel-item::after {content: \"\";width: 100%;border-bottom: 1px solid gray;flex-grow: 1;}#sk-container-id-1 div.sk-label:hover label.sk-toggleable__label {background-color: #d4ebff;}#sk-container-id-1 div.sk-serial::before {content: \"\";position: absolute;border-left: 1px solid gray;box-sizing: border-box;top: 0;bottom: 0;left: 50%;z-index: 0;}#sk-container-id-1 div.sk-serial {display: flex;flex-direction: column;align-items: center;background-color: white;padding-right: 0.2em;padding-left: 0.2em;position: relative;}#sk-container-id-1 div.sk-item {position: relative;z-index: 1;}#sk-container-id-1 div.sk-parallel {display: flex;align-items: stretch;justify-content: center;background-color: white;position: relative;}#sk-container-id-1 div.sk-item::before, #sk-container-id-1 div.sk-parallel-item::before {content: \"\";position: absolute;border-left: 1px solid gray;box-sizing: border-box;top: 0;bottom: 0;left: 50%;z-index: -1;}#sk-container-id-1 div.sk-parallel-item {display: flex;flex-direction: column;z-index: 1;position: relative;background-color: white;}#sk-container-id-1 div.sk-parallel-item:first-child::after {align-self: flex-end;width: 50%;}#sk-container-id-1 div.sk-parallel-item:last-child::after {align-self: flex-start;width: 50%;}#sk-container-id-1 div.sk-parallel-item:only-child::after {width: 0;}#sk-container-id-1 div.sk-dashed-wrapped {border: 1px dashed gray;margin: 0 0.4em 0.5em 0.4em;box-sizing: border-box;padding-bottom: 0.4em;background-color: white;}#sk-container-id-1 div.sk-label label {font-family: monospace;font-weight: bold;display: inline-block;line-height: 1.2em;}#sk-container-id-1 div.sk-label-container {text-align: center;}#sk-container-id-1 div.sk-container {/* jupyter's `normalize.less` sets `[hidden] { display: none; }` but bootstrap.min.css set `[hidden] { display: none !important; }` so we also need the `!important` here to be able to override the default hidden behavior on the sphinx rendered scikit-learn.org. See: https://github.com/scikit-learn/scikit-learn/issues/21755 */display: inline-block !important;position: relative;}#sk-container-id-1 div.sk-text-repr-fallback {display: none;}</style><div id=\"sk-container-id-1\" class=\"sk-top-container\"><div class=\"sk-text-repr-fallback\"><pre>LinearRegression()</pre><b>In a Jupyter environment, please rerun this cell to show the HTML representation or trust the notebook. <br />On GitHub, the HTML representation is unable to render, please try loading this page with nbviewer.org.</b></div><div class=\"sk-container\" hidden><div class=\"sk-item\"><div class=\"sk-estimator sk-toggleable\"><input class=\"sk-toggleable__control sk-hidden--visually\" id=\"sk-estimator-id-1\" type=\"checkbox\" checked><label for=\"sk-estimator-id-1\" class=\"sk-toggleable__label sk-toggleable__label-arrow\">LinearRegression</label><div class=\"sk-toggleable__content\"><pre>LinearRegression()</pre></div></div></div></div></div>"
      ],
      "text/plain": [
       "LinearRegression()"
      ]
     },
     "execution_count": 71,
     "metadata": {},
     "output_type": "execute_result"
    }
   ],
   "source": [
    "# using linear regression model\n",
    "from sklearn.linear_model import LinearRegression\n",
    "from sklearn.metrics import mean_squared_error, accuracy_score\n",
    "\n",
    "regresssion_model_sklearn = LinearRegression(fit_intercept = True)\n",
    "regresssion_model_sklearn.fit(X_train, y_train)\n"
   ]
  },
  {
   "cell_type": "code",
   "execution_count": 72,
   "metadata": {
    "colab": {
     "base_uri": "https://localhost:8080/",
     "height": 34
    },
    "colab_type": "code",
    "id": "elD8m5N0BgEY",
    "outputId": "16a1813d-a0f1-4d1f-dc02-d7ad5a445417"
   },
   "outputs": [
    {
     "data": {
      "text/plain": [
       "0.8758121411270365"
      ]
     },
     "execution_count": 72,
     "metadata": {},
     "output_type": "execute_result"
    }
   ],
   "source": [
    "regresssion_model_sklearn_accuracy = regresssion_model_sklearn.score(X_test, y_test)\n",
    "regresssion_model_sklearn_accuracy"
   ]
  },
  {
   "cell_type": "code",
   "execution_count": 73,
   "metadata": {},
   "outputs": [
    {
     "name": "stdout",
     "output_type": "stream",
     "text": [
      "Linear Model Coefficient (m):  [[8558.619]]\n",
      "Linear Model Coefficient (b):  [30515.824]\n"
     ]
    }
   ],
   "source": [
    "print('Linear Model Coefficient (m): ', regresssion_model_sklearn.coef_)\n",
    "print('Linear Model Coefficient (b): ', regresssion_model_sklearn.intercept_)"
   ]
  },
  {
   "cell_type": "markdown",
   "metadata": {},
   "source": [
    "MINI CHALLENGE\n",
    "- Retrain the model while setting the fit_intercept = False, what do you notice?"
   ]
  },
  {
   "cell_type": "code",
   "execution_count": null,
   "metadata": {},
   "outputs": [],
   "source": []
  },
  {
   "cell_type": "markdown",
   "metadata": {},
   "source": [
    "# TASK #6: EVALUATE TRAINED MODEL PERFORMANCE (NOTE THAT SAGEMAKER BUILT-IN ALGORITHMS ARE NOT USED HERE)"
   ]
  },
  {
   "cell_type": "code",
   "execution_count": 74,
   "metadata": {},
   "outputs": [],
   "source": [
    "y_predict = regresssion_model_sklearn.predict(X_test)"
   ]
  },
  {
   "cell_type": "code",
   "execution_count": 75,
   "metadata": {
    "scrolled": true
   },
   "outputs": [
    {
     "data": {
      "text/plain": [
       "array([[62182.715],\n",
       "       [88714.44 ],\n",
       "       [55335.82 ],\n",
       "       [49344.79 ],\n",
       "       [56191.68 ],\n",
       "       [69029.61 ],\n",
       "       [43353.754]], dtype=float32)"
      ]
     },
     "execution_count": 75,
     "metadata": {},
     "output_type": "execute_result"
    }
   ],
   "source": [
    "y_predict"
   ]
  },
  {
   "cell_type": "code",
   "execution_count": 76,
   "metadata": {},
   "outputs": [
    {
     "data": {
      "text/plain": [
       "Text(0.5, 1.0, 'Salary vs. Years of Experience')"
      ]
     },
     "execution_count": 76,
     "metadata": {},
     "output_type": "execute_result"
    },
    {
     "data": {
      "image/png": "[encoded data removed]",
      "text/plain": [
       "<Figure size 640x480 with 1 Axes>"
      ]
     },
     "metadata": {},
     "output_type": "display_data"
    }
   ],
   "source": [
    "plt.scatter(X_train, y_train, color = 'gray')\n",
    "plt.plot(X_train, regresssion_model_sklearn.predict(X_train), color = 'red')\n",
    "plt.ylabel('Salary')\n",
    "plt.xlabel('Number of Years of Experience')\n",
    "plt.title('Salary vs. Years of Experience')"
   ]
  },
  {
   "cell_type": "markdown",
   "metadata": {},
   "source": [
    "MINI CHALLENGE\n",
    " - Use the trained model, obtain the salary corresponding to eployees who have years of experience = 5"
   ]
  },
  {
   "cell_type": "markdown",
   "metadata": {},
   "source": [
    "# TASK #7: TRAIN A LINEAR LEARNER MODEL USING SAGEMAKER"
   ]
  },
  {
   "cell_type": "code",
   "execution_count": 34,
   "metadata": {},
   "outputs": [
    {
     "name": "stdout",
     "output_type": "stream",
     "text": [
      "arn:aws:iam::542063182511:role/service-role/AmazonSageMaker-ExecutionRole-20191104T033920\n"
     ]
    }
   ],
   "source": [
    "# Boto3 is the Amazon Web Services (AWS) Software Development Kit (SDK) for Python\n",
    "# Boto3 allows Python developer to write software that makes use of services like Amazon S3 and Amazon EC2\n",
    "\n",
    "import sagemaker\n",
    "import boto3\n",
    "from sagemaker import Session\n",
    "\n",
    "# Let's create a Sagemaker session\n",
    "sagemaker_session = sagemaker.Session()\n",
    "bucket = Session().default_bucket()\n",
    "# Let's define the S3 bucket and prefix that we want to use in this session\n",
    "# bucket = 'sagemaker-practica' # bucket named 'sagemaker-practical' was created beforehand\n",
    "prefix = 'linear_learner' # prefix is the subfolder within the bucket.\n",
    "\n",
    "# Let's get the execution role for the notebook instance. \n",
    "# This is the IAM role that you created when you created your notebook instance. You pass the role to the training job.\n",
    "# Note that AWS Identity and Access Management (IAM) role that Amazon SageMaker can assume to perform tasks on your behalf (for example, reading training results, called model artifacts, from the S3 bucket and writing training results to Amazon S3). \n",
    "role = sagemaker.get_execution_role()\n",
    "print(role)"
   ]
  },
  {
   "cell_type": "code",
   "execution_count": 35,
   "metadata": {},
   "outputs": [
    {
     "data": {
      "text/plain": [
       "(28, 1)"
      ]
     },
     "execution_count": 35,
     "metadata": {},
     "output_type": "execute_result"
    }
   ],
   "source": [
    "X_train.shape"
   ]
  },
  {
   "cell_type": "code",
   "execution_count": 36,
   "metadata": {},
   "outputs": [],
   "source": [
    "y_train = y_train[:,0]"
   ]
  },
  {
   "cell_type": "code",
   "execution_count": 37,
   "metadata": {},
   "outputs": [
    {
     "data": {
      "text/plain": [
       "(28,)"
      ]
     },
     "execution_count": 37,
     "metadata": {},
     "output_type": "execute_result"
    }
   ],
   "source": [
    "y_train.shape"
   ]
  },
  {
   "cell_type": "code",
   "execution_count": 38,
   "metadata": {},
   "outputs": [
    {
     "data": {
      "text/plain": [
       "0"
      ]
     },
     "execution_count": 38,
     "metadata": {},
     "output_type": "execute_result"
    }
   ],
   "source": [
    "import io # The io module allows for dealing with various types of I/O (text I/O, binary I/O and raw I/O). \n",
    "import numpy as np\n",
    "import sagemaker.amazon.common as smac # sagemaker common libary\n",
    "\n",
    "# Code below converts the data in numpy array format to RecordIO format\n",
    "# This is the format required by Sagemaker Linear Learner \n",
    "\n",
    "buf = io.BytesIO() # create an in-memory byte array (buf is a buffer I will be writing to)\n",
    "smac.write_numpy_to_dense_tensor(buf, X_train, y_train)\n",
    "buf.seek(0) \n",
    "# When you write to in-memory byte arrays, it increments 1 every time you write to it\n",
    "# Let's reset that back to zero \n"
   ]
  },
  {
   "cell_type": "code",
   "execution_count": 39,
   "metadata": {},
   "outputs": [
    {
     "name": "stdout",
     "output_type": "stream",
     "text": [
      "uploaded training data location: s3://sagemaker-us-east-2-542063182511/linear_learner/train/linear-train-data\n"
     ]
    }
   ],
   "source": [
    "import os\n",
    "\n",
    "# Code to upload RecordIO data to S3\n",
    " \n",
    "# Key refers to the name of the file    \n",
    "key = 'linear-train-data'\n",
    "\n",
    "# The following code uploads the data in record-io format to S3 bucket to be accessed later for training\n",
    "boto3.resource('s3').Bucket(bucket).Object(os.path.join(prefix, 'train', key)).upload_fileobj(buf)\n",
    "\n",
    "# Let's print out the training data location in s3\n",
    "s3_train_data = 's3://{}/{}/train/{}'.format(bucket, prefix, key)\n",
    "print('uploaded training data location: {}'.format(s3_train_data))"
   ]
  },
  {
   "cell_type": "code",
   "execution_count": 40,
   "metadata": {},
   "outputs": [
    {
     "data": {
      "text/plain": [
       "(7, 1)"
      ]
     },
     "execution_count": 40,
     "metadata": {},
     "output_type": "execute_result"
    }
   ],
   "source": [
    "X_test.shape"
   ]
  },
  {
   "cell_type": "code",
   "execution_count": 41,
   "metadata": {},
   "outputs": [
    {
     "data": {
      "text/plain": [
       "(7, 1)"
      ]
     },
     "execution_count": 41,
     "metadata": {},
     "output_type": "execute_result"
    }
   ],
   "source": [
    "y_test.shape"
   ]
  },
  {
   "cell_type": "code",
   "execution_count": 42,
   "metadata": {},
   "outputs": [],
   "source": [
    "# Make sure that the target label is a vector\n",
    "y_test = y_test[:,0]\n"
   ]
  },
  {
   "cell_type": "code",
   "execution_count": 43,
   "metadata": {},
   "outputs": [
    {
     "data": {
      "text/plain": [
       "0"
      ]
     },
     "execution_count": 43,
     "metadata": {},
     "output_type": "execute_result"
    }
   ],
   "source": [
    "# Code to upload RecordIO data to S3\n",
    "\n",
    "buf = io.BytesIO() # create an in-memory byte array (buf is a buffer I will be writing to)\n",
    "smac.write_numpy_to_dense_tensor(buf, X_test, y_test)\n",
    "buf.seek(0) \n",
    "# When you write to in-memory byte arrays, it increments 1 every time you write to it\n",
    "# Let's reset that back to zero \n"
   ]
  },
  {
   "cell_type": "code",
   "execution_count": 44,
   "metadata": {},
   "outputs": [
    {
     "name": "stdout",
     "output_type": "stream",
     "text": [
      "uploaded training data location: s3://sagemaker-us-east-2-542063182511/linear_learner/test/linear-test-data\n"
     ]
    }
   ],
   "source": [
    "# Key refers to the name of the file    \n",
    "key = 'linear-test-data'\n",
    "\n",
    "# The following code uploads the data in record-io format to S3 bucket to be accessed later for training\n",
    "boto3.resource('s3').Bucket(bucket).Object(os.path.join(prefix, 'test', key)).upload_fileobj(buf)\n",
    "\n",
    "# Let's print out the testing data location in s3\n",
    "s3_test_data = 's3://{}/{}/test/{}'.format(bucket, prefix, key)\n",
    "print('uploaded training data location: {}'.format(s3_test_data))"
   ]
  },
  {
   "cell_type": "code",
   "execution_count": 45,
   "metadata": {},
   "outputs": [
    {
     "name": "stdout",
     "output_type": "stream",
     "text": [
      "Training artifacts will be uploaded to: s3://sagemaker-us-east-2-542063182511/linear_learner/output\n"
     ]
    }
   ],
   "source": [
    "# create an output placeholder in S3 bucket to store the linear learner output\n",
    "\n",
    "output_location = 's3://{}/{}/output'.format(bucket, prefix)\n",
    "print('Training artifacts will be uploaded to: {}'.format(output_location))"
   ]
  },
  {
   "cell_type": "code",
   "execution_count": 46,
   "metadata": {},
   "outputs": [
    {
     "name": "stderr",
     "output_type": "stream",
     "text": [
      "The method get_image_uri has been renamed in sagemaker>=2.\n",
      "See: https://sagemaker.readthedocs.io/en/stable/v2.html for details.\n",
      "Defaulting to the only supported framework/algorithm version: 1. Ignoring framework/algorithm version: 1.\n"
     ]
    }
   ],
   "source": [
    "# This code is used to get the training container of sagemaker built-in algorithms\n",
    "# all we have to do is to specify the name of the algorithm, that we want to use\n",
    "\n",
    "# Let's obtain a reference to the linearLearner container image\n",
    "# Note that all regression models are named estimators\n",
    "# You don't have to specify (hardcode) the region, get_image_uri will get the current region name using boto3.Session\n",
    "\n",
    "from sagemaker.amazon.amazon_estimator import get_image_uri\n",
    "\n",
    "container = get_image_uri(boto3.Session().region_name, 'linear-learner')"
   ]
  },
  {
   "cell_type": "code",
   "execution_count": 48,
   "metadata": {},
   "outputs": [
    {
     "name": "stderr",
     "output_type": "stream",
     "text": [
      "train_instance_count has been renamed in sagemaker>=2.\n",
      "See: https://sagemaker.readthedocs.io/en/stable/v2.html for details.\n",
      "train_instance_type has been renamed in sagemaker>=2.\n",
      "See: https://sagemaker.readthedocs.io/en/stable/v2.html for details.\n"
     ]
    },
    {
     "name": "stdout",
     "output_type": "stream",
     "text": [
      "2021-03-25 16:31:04 Starting - Starting the training job...\n",
      "2021-03-25 16:31:27 Starting - Launching requested ML instancesProfilerReport-1616689863: InProgress\n",
      "......\n",
      "2021-03-25 16:32:28 Starting - Preparing the instances for training......\n",
      "2021-03-25 16:33:31 Downloading - Downloading input data...\n",
      "2021-03-25 16:33:49 Training - Downloading the training image..\u001b[34mDocker entrypoint called with argument(s): train\u001b[0m\n",
      "\u001b[34mRunning default environment configuration script\u001b[0m\n",
      "\u001b[34m[03/25/2021 16:34:15 INFO 140014102267712] Reading default configuration from /opt/amazon/lib/python3.7/site-packages/algorithm/resources/default-input.json: {'mini_batch_size': '1000', 'epochs': '15', 'feature_dim': 'auto', 'use_bias': 'true', 'binary_classifier_model_selection_criteria': 'accuracy', 'f_beta': '1.0', 'target_recall': '0.8', 'target_precision': '0.8', 'num_models': 'auto', 'num_calibration_samples': '10000000', 'init_method': 'uniform', 'init_scale': '0.07', 'init_sigma': '0.01', 'init_bias': '0.0', 'optimizer': 'auto', 'loss': 'auto', 'margin': '1.0', 'quantile': '0.5', 'loss_insensitivity': '0.01', 'huber_delta': '1.0', 'num_classes': '1', 'accuracy_top_k': '3', 'wd': 'auto', 'l1': 'auto', 'momentum': 'auto', 'learning_rate': 'auto', 'beta_1': 'auto', 'beta_2': 'auto', 'bias_lr_mult': 'auto', 'bias_wd_mult': 'auto', 'use_lr_scheduler': 'true', 'lr_scheduler_step': 'auto', 'lr_scheduler_factor': 'auto', 'lr_scheduler_minimum_lr': 'auto', 'positive_example_weight_mult': '1.0', 'balance_multiclass_weights': 'false', 'normalize_data': 'true', 'normalize_label': 'auto', 'unbias_data': 'auto', 'unbias_label': 'auto', 'num_point_for_scaler': '10000', '_kvstore': 'auto', '_num_gpus': 'auto', '_num_kv_servers': 'auto', '_log_level': 'info', '_tuning_objective_metric': '', 'early_stopping_patience': '3', 'early_stopping_tolerance': '0.001', '_enable_profiler': 'false'}\u001b[0m\n",
      "\u001b[34m[03/25/2021 16:34:15 INFO 140014102267712] Merging with provided configuration from /opt/ml/input/config/hyperparameters.json: {'loss': 'absolute_loss', 'feature_dim': '1', 'num_models': '32', 'predictor_type': 'regressor', 'epochs': '5', 'mini_batch_size': '5'}\u001b[0m\n",
      "\u001b[34m[03/25/2021 16:34:15 INFO 140014102267712] Final configuration: {'mini_batch_size': '5', 'epochs': '5', 'feature_dim': '1', 'use_bias': 'true', 'binary_classifier_model_selection_criteria': 'accuracy', 'f_beta': '1.0', 'target_recall': '0.8', 'target_precision': '0.8', 'num_models': '32', 'num_calibration_samples': '10000000', 'init_method': 'uniform', 'init_scale': '0.07', 'init_sigma': '0.01', 'init_bias': '0.0', 'optimizer': 'auto', 'loss': 'absolute_loss', 'margin': '1.0', 'quantile': '0.5', 'loss_insensitivity': '0.01', 'huber_delta': '1.0', 'num_classes': '1', 'accuracy_top_k': '3', 'wd': 'auto', 'l1': 'auto', 'momentum': 'auto', 'learning_rate': 'auto', 'beta_1': 'auto', 'beta_2': 'auto', 'bias_lr_mult': 'auto', 'bias_wd_mult': 'auto', 'use_lr_scheduler': 'true', 'lr_scheduler_step': 'auto', 'lr_scheduler_factor': 'auto', 'lr_scheduler_minimum_lr': 'auto', 'positive_example_weight_mult': '1.0', 'balance_multiclass_weights': 'false', 'normalize_data': 'true', 'normalize_label': 'auto', 'unbias_data': 'auto', 'unbias_label': 'auto', 'num_point_for_scaler': '10000', '_kvstore': 'auto', '_num_gpus': 'auto', '_num_kv_servers': 'auto', '_log_level': 'info', '_tuning_objective_metric': '', 'early_stopping_patience': '3', 'early_stopping_tolerance': '0.001', '_enable_profiler': 'false', 'predictor_type': 'regressor'}\u001b[0m\n",
      "\u001b[34m[03/25/2021 16:34:15 WARNING 140014102267712] Loggers have already been setup.\u001b[0m\n",
      "\u001b[34mProcess 1 is a worker.\u001b[0m\n",
      "\u001b[34m[03/25/2021 16:34:15 INFO 140014102267712] Using default worker.\u001b[0m\n",
      "\u001b[34m[03/25/2021 16:34:16 INFO 140014102267712] Checkpoint loading and saving are disabled.\u001b[0m\n",
      "\u001b[34m[2021-03-25 16:34:16.129] [tensorio] [info] epoch_stats={\"data_pipeline\": \"/opt/ml/input/data/train\", \"epoch\": 0, \"duration\": 13, \"num_examples\": 1, \"num_bytes\": 240}\u001b[0m\n",
      "\u001b[34m[03/25/2021 16:34:16 INFO 140014102267712] Create Store: local\u001b[0m\n",
      "\u001b[34m[2021-03-25 16:34:16.191] [tensorio] [info] epoch_stats={\"data_pipeline\": \"/opt/ml/input/data/train\", \"epoch\": 1, \"duration\": 62, \"num_examples\": 6, \"num_bytes\": 1344}\u001b[0m\n",
      "\u001b[34m[03/25/2021 16:34:16 INFO 140014102267712] Scaler algorithm parameters\n",
      " <algorithm.scaler.ScalerAlgorithmStable object at 0x7f57320ee350>\u001b[0m\n",
      "\u001b[34m[03/25/2021 16:34:16 INFO 140014102267712] Scaling model computed with parameters:\n",
      " {'stdev_label': \u001b[0m\n",
      "\u001b[34m[29777.29]\u001b[0m\n",
      "\u001b[34m<NDArray 1 @cpu(0)>, 'stdev_weight': \u001b[0m\n",
      "\u001b[34m[3.2953396]\u001b[0m\n",
      "\u001b[34m<NDArray 1 @cpu(0)>, 'mean_label': \u001b[0m\n",
      "\u001b[34m[81142.92]\u001b[0m\n",
      "\u001b[34m<NDArray 1 @cpu(0)>, 'mean_weight': \u001b[0m\n",
      "\u001b[34m[5.944]\u001b[0m\n",
      "\u001b[34m<NDArray 1 @cpu(0)>}\u001b[0m\n",
      "\u001b[34m[03/25/2021 16:34:16 INFO 140014102267712] nvidia-smi took: 0.025219202041625977 secs to identify 0 gpus\u001b[0m\n",
      "\u001b[34m[03/25/2021 16:34:16 INFO 140014102267712] Number of GPUs being used: 0\u001b[0m\n",
      "\u001b[34m#metrics {\"StartTime\": 1616690056.2975857, \"EndTime\": 1616690056.2976184, \"Dimensions\": {\"Algorithm\": \"Linear Learner\", \"Host\": \"algo-1\", \"Operation\": \"training\", \"Meta\": \"init_train_data_iter\"}, \"Metrics\": {\"Total Records Seen\": {\"sum\": 33.0, \"count\": 1, \"min\": 33, \"max\": 33}, \"Total Batches Seen\": {\"sum\": 7.0, \"count\": 1, \"min\": 7, \"max\": 7}, \"Max Records Seen Between Resets\": {\"sum\": 28.0, \"count\": 1, \"min\": 28, \"max\": 28}, \"Max Batches Seen Between Resets\": {\"sum\": 6.0, \"count\": 1, \"min\": 6, \"max\": 6}, \"Reset Count\": {\"sum\": 2.0, \"count\": 1, \"min\": 2, \"max\": 2}, \"Number of Records Since Last Reset\": {\"sum\": 0.0, \"count\": 1, \"min\": 0, \"max\": 0}, \"Number of Batches Since Last Reset\": {\"sum\": 0.0, \"count\": 1, \"min\": 0, \"max\": 0}}}\n",
      "\u001b[0m\n",
      "\u001b[34m[2021-03-25 16:34:16.396] [tensorio] [info] epoch_stats={\"data_pipeline\": \"/opt/ml/input/data/train\", \"epoch\": 4, \"duration\": 98, \"num_examples\": 6, \"num_bytes\": 1344}\u001b[0m\n",
      "\u001b[34m#metrics {\"StartTime\": 1616690056.3966718, \"EndTime\": 1616690056.396747, \"Dimensions\": {\"Algorithm\": \"Linear Learner\", \"Host\": \"algo-1\", \"Operation\": \"training\", \"epoch\": 0, \"model\": 0}, \"Metrics\": {\"train_absolute_loss_objective\": {\"sum\": 0.8834025096893311, \"count\": 1, \"min\": 0.8834025096893311, \"max\": 0.8834025096893311}}}\n",
      "\u001b[0m\n",
      "\u001b[34m#metrics {\"StartTime\": 1616690056.396811, \"EndTime\": 1616690056.3968303, \"Dimensions\": {\"Algorithm\": \"Linear Learner\", \"Host\": \"algo-1\", \"Operation\": \"training\", \"epoch\": 0, \"model\": 1}, \"Metrics\": {\"train_absolute_loss_objective\": {\"sum\": 0.9024999046325684, \"count\": 1, \"min\": 0.9024999046325684, \"max\": 0.9024999046325684}}}\n",
      "\u001b[0m\n",
      "\u001b[34m#metrics {\"StartTime\": 1616690056.396887, \"EndTime\": 1616690056.3969042, \"Dimensions\": {\"Algorithm\": \"Linear Learner\", \"Host\": \"algo-1\", \"Operation\": \"training\", \"epoch\": 0, \"model\": 2}, \"Metrics\": {\"train_absolute_loss_objective\": {\"sum\": 0.885715913772583, \"count\": 1, \"min\": 0.885715913772583, \"max\": 0.885715913772583}}}\n",
      "\u001b[0m\n",
      "\u001b[34m#metrics {\"StartTime\": 1616690056.3969603, \"EndTime\": 1616690056.3969786, \"Dimensions\": {\"Algorithm\": \"Linear Learner\", \"Host\": \"algo-1\", \"Operation\": \"training\", \"epoch\": 0, \"model\": 3}, \"Metrics\": {\"train_absolute_loss_objective\": {\"sum\": 0.9015239906311036, \"count\": 1, \"min\": 0.9015239906311036, \"max\": 0.9015239906311036}}}\n",
      "\u001b[0m\n",
      "\u001b[34m#metrics {\"StartTime\": 1616690056.397031, \"EndTime\": 1616690056.397049, \"Dimensions\": {\"Algorithm\": \"Linear Learner\", \"Host\": \"algo-1\", \"Operation\": \"training\", \"epoch\": 0, \"model\": 4}, \"Metrics\": {\"train_absolute_loss_objective\": {\"sum\": 0.9324107456207276, \"count\": 1, \"min\": 0.9324107456207276, \"max\": 0.9324107456207276}}}\n",
      "\u001b[0m\n",
      "\u001b[34m#metrics {\"StartTime\": 1616690056.3971002, \"EndTime\": 1616690056.3971171, \"Dimensions\": {\"Algorithm\": \"Linear Learner\", \"Host\": \"algo-1\", \"Operation\": \"training\", \"epoch\": 0, \"model\": 5}, \"Metrics\": {\"train_absolute_loss_objective\": {\"sum\": 0.939951171875, \"count\": 1, \"min\": 0.939951171875, \"max\": 0.939951171875}}}\n",
      "\u001b[0m\n",
      "\u001b[34m#metrics {\"StartTime\": 1616690056.397173, \"EndTime\": 1616690056.39719, \"Dimensions\": {\"Algorithm\": \"Linear Learner\", \"Host\": \"algo-1\", \"Operation\": \"training\", \"epoch\": 0, \"model\": 6}, \"Metrics\": {\"train_absolute_loss_objective\": {\"sum\": 0.9802908229827881, \"count\": 1, \"min\": 0.9802908229827881, \"max\": 0.9802908229827881}}}\n",
      "\u001b[0m\n",
      "\u001b[34m#metrics {\"StartTime\": 1616690056.3972402, \"EndTime\": 1616690056.3972573, \"Dimensions\": {\"Algorithm\": \"Linear Learner\", \"Host\": \"algo-1\", \"Operation\": \"training\", \"epoch\": 0, \"model\": 7}, \"Metrics\": {\"train_absolute_loss_objective\": {\"sum\": 0.9819570350646972, \"count\": 1, \"min\": 0.9819570350646972, \"max\": 0.9819570350646972}}}\n",
      "\u001b[0m\n",
      "\u001b[34m#metrics {\"StartTime\": 1616690056.397308, \"EndTime\": 1616690056.3973253, \"Dimensions\": {\"Algorithm\": \"Linear Learner\", \"Host\": \"algo-1\", \"Operation\": \"training\", \"epoch\": 0, \"model\": 8}, \"Metrics\": {\"train_absolute_loss_objective\": {\"sum\": 0.9370228862762451, \"count\": 1, \"min\": 0.9370228862762451, \"max\": 0.9370228862762451}}}\n",
      "\u001b[0m\n",
      "\u001b[34m#metrics {\"StartTime\": 1616690056.3973758, \"EndTime\": 1616690056.3973927, \"Dimensions\": {\"Algorithm\": \"Linear Learner\", \"Host\": \"algo-1\", \"Operation\": \"training\", \"epoch\": 0, \"model\": 9}, \"Metrics\": {\"train_absolute_loss_objective\": {\"sum\": 0.8718631935119628, \"count\": 1, \"min\": 0.8718631935119628, \"max\": 0.8718631935119628}}}\n",
      "\u001b[0m\n",
      "\u001b[34m#metrics {\"StartTime\": 1616690056.3974428, \"EndTime\": 1616690056.3974593, \"Dimensions\": {\"Algorithm\": \"Linear Learner\", \"Host\": \"algo-1\", \"Operation\": \"training\", \"epoch\": 0, \"model\": 10}, \"Metrics\": {\"train_absolute_loss_objective\": {\"sum\": 0.878288927078247, \"count\": 1, \"min\": 0.878288927078247, \"max\": 0.878288927078247}}}\n",
      "\u001b[0m\n",
      "\u001b[34m#metrics {\"StartTime\": 1616690056.397509, \"EndTime\": 1616690056.397526, \"Dimensions\": {\"Algorithm\": \"Linear Learner\", \"Host\": \"algo-1\", \"Operation\": \"training\", \"epoch\": 0, \"model\": 11}, \"Metrics\": {\"train_absolute_loss_objective\": {\"sum\": 0.8640797519683838, \"count\": 1, \"min\": 0.8640797519683838, \"max\": 0.8640797519683838}}}\n",
      "\u001b[0m\n",
      "\u001b[34m#metrics {\"StartTime\": 1616690056.397577, \"EndTime\": 1616690056.3975935, \"Dimensions\": {\"Algorithm\": \"Linear Learner\", \"Host\": \"algo-1\", \"Operation\": \"training\", \"epoch\": 0, \"model\": 12}, \"Metrics\": {\"train_absolute_loss_objective\": {\"sum\": 0.939356107711792, \"count\": 1, \"min\": 0.939356107711792, \"max\": 0.939356107711792}}}\n",
      "\u001b[0m\n",
      "\u001b[34m#metrics {\"StartTime\": 1616690056.3976436, \"EndTime\": 1616690056.3976862, \"Dimensions\": {\"Algorithm\": \"Linear Learner\", \"Host\": \"algo-1\", \"Operation\": \"training\", \"epoch\": 0, \"model\": 13}, \"Metrics\": {\"train_absolute_loss_objective\": {\"sum\": 0.9596815490722657, \"count\": 1, \"min\": 0.9596815490722657, \"max\": 0.9596815490722657}}}\n",
      "\u001b[0m\n",
      "\u001b[34m#metrics {\"StartTime\": 1616690056.3977404, \"EndTime\": 1616690056.397758, \"Dimensions\": {\"Algorithm\": \"Linear Learner\", \"Host\": \"algo-1\", \"Operation\": \"training\", \"epoch\": 0, \"model\": 14}, \"Metrics\": {\"train_absolute_loss_objective\": {\"sum\": 0.9382047748565674, \"count\": 1, \"min\": 0.9382047748565674, \"max\": 0.9382047748565674}}}\n",
      "\u001b[0m\n",
      "\u001b[34m#metrics {\"StartTime\": 1616690056.3978095, \"EndTime\": 1616690056.3978262, \"Dimensions\": {\"Algorithm\": \"Linear Learner\", \"Host\": \"algo-1\", \"Operation\": \"training\", \"epoch\": 0, \"model\": 15}, \"Metrics\": {\"train_absolute_loss_objective\": {\"sum\": 0.9645529651641845, \"count\": 1, \"min\": 0.9645529651641845, \"max\": 0.9645529651641845}}}\n",
      "\u001b[0m\n",
      "\u001b[34m#metrics {\"StartTime\": 1616690056.3978765, \"EndTime\": 1616690056.3978922, \"Dimensions\": {\"Algorithm\": \"Linear Learner\", \"Host\": \"algo-1\", \"Operation\": \"training\", \"epoch\": 0, \"model\": 16}, \"Metrics\": {\"train_absolute_loss_objective\": {\"sum\": 0.8488049125671386, \"count\": 1, \"min\": 0.8488049125671386, \"max\": 0.8488049125671386}}}\n",
      "\u001b[0m\n",
      "\u001b[34m#metrics {\"StartTime\": 1616690056.3979418, \"EndTime\": 1616690056.3979588, \"Dimensions\": {\"Algorithm\": \"Linear Learner\", \"Host\": \"algo-1\", \"Operation\": \"training\", \"epoch\": 0, \"model\": 17}, \"Metrics\": {\"train_absolute_loss_objective\": {\"sum\": 0.8979407978057862, \"count\": 1, \"min\": 0.8979407978057862, \"max\": 0.8979407978057862}}}\n",
      "\u001b[0m\n",
      "\u001b[34m#metrics {\"StartTime\": 1616690056.398013, \"EndTime\": 1616690056.3980293, \"Dimensions\": {\"Algorithm\": \"Linear Learner\", \"Host\": \"algo-1\", \"Operation\": \"training\", \"epoch\": 0, \"model\": 18}, \"Metrics\": {\"train_absolute_loss_objective\": {\"sum\": 0.8747504043579102, \"count\": 1, \"min\": 0.8747504043579102, \"max\": 0.8747504043579102}}}\n",
      "\u001b[0m\n",
      "\u001b[34m#metrics {\"StartTime\": 1616690056.39808, \"EndTime\": 1616690056.3980956, \"Dimensions\": {\"Algorithm\": \"Linear Learner\", \"Host\": \"algo-1\", \"Operation\": \"training\", \"epoch\": 0, \"model\": 19}, \"Metrics\": {\"train_absolute_loss_objective\": {\"sum\": 0.8721601581573486, \"count\": 1, \"min\": 0.8721601581573486, \"max\": 0.8721601581573486}}}\n",
      "\u001b[0m\n",
      "\u001b[34m#metrics {\"StartTime\": 1616690056.3981445, \"EndTime\": 1616690056.3981605, \"Dimensions\": {\"Algorithm\": \"Linear Learner\", \"Host\": \"algo-1\", \"Operation\": \"training\", \"epoch\": 0, \"model\": 20}, \"Metrics\": {\"train_absolute_loss_objective\": {\"sum\": 0.9806975841522216, \"count\": 1, \"min\": 0.9806975841522216, \"max\": 0.9806975841522216}}}\n",
      "\u001b[0m\n",
      "\u001b[34m#metrics {\"StartTime\": 1616690056.3982112, \"EndTime\": 1616690056.398227, \"Dimensions\": {\"Algorithm\": \"Linear Learner\", \"Host\": \"algo-1\", \"Operation\": \"training\", \"epoch\": 0, \"model\": 21}, \"Metrics\": {\"train_absolute_loss_objective\": {\"sum\": 0.9928222179412842, \"count\": 1, \"min\": 0.9928222179412842, \"max\": 0.9928222179412842}}}\n",
      "\u001b[0m\n",
      "\u001b[34m#metrics {\"StartTime\": 1616690056.3982794, \"EndTime\": 1616690056.398295, \"Dimensions\": {\"Algorithm\": \"Linear Learner\", \"Host\": \"algo-1\", \"Operation\": \"training\", \"epoch\": 0, \"model\": 22}, \"Metrics\": {\"train_absolute_loss_objective\": {\"sum\": 0.9469636821746826, \"count\": 1, \"min\": 0.9469636821746826, \"max\": 0.9469636821746826}}}\n",
      "\u001b[0m\n",
      "\u001b[34m#metrics {\"StartTime\": 1616690056.3983476, \"EndTime\": 1616690056.3983636, \"Dimensions\": {\"Algorithm\": \"Linear Learner\", \"Host\": \"algo-1\", \"Operation\": \"training\", \"epoch\": 0, \"model\": 23}, \"Metrics\": {\"train_absolute_loss_objective\": {\"sum\": 0.9868831825256348, \"count\": 1, \"min\": 0.9868831825256348, \"max\": 0.9868831825256348}}}\n",
      "\u001b[0m\n",
      "\u001b[34m#metrics {\"StartTime\": 1616690056.3984158, \"EndTime\": 1616690056.398432, \"Dimensions\": {\"Algorithm\": \"Linear Learner\", \"Host\": \"algo-1\", \"Operation\": \"training\", \"epoch\": 0, \"model\": 24}, \"Metrics\": {\"train_absolute_loss_objective\": {\"sum\": 0.8522921180725098, \"count\": 1, \"min\": 0.8522921180725098, \"max\": 0.8522921180725098}}}\n",
      "\u001b[0m\n",
      "\u001b[34m#metrics {\"StartTime\": 1616690056.3984842, \"EndTime\": 1616690056.3985004, \"Dimensions\": {\"Algorithm\": \"Linear Learner\", \"Host\": \"algo-1\", \"Operation\": \"training\", \"epoch\": 0, \"model\": 25}, \"Metrics\": {\"train_absolute_loss_objective\": {\"sum\": 0.9152001667022706, \"count\": 1, \"min\": 0.9152001667022706, \"max\": 0.9152001667022706}}}\n",
      "\u001b[0m\n",
      "\u001b[34m#metrics {\"StartTime\": 1616690056.398551, \"EndTime\": 1616690056.3985674, \"Dimensions\": {\"Algorithm\": \"Linear Learner\", \"Host\": \"algo-1\", \"Operation\": \"training\", \"epoch\": 0, \"model\": 26}, \"Metrics\": {\"train_absolute_loss_objective\": {\"sum\": 0.9025534820556641, \"count\": 1, \"min\": 0.9025534820556641, \"max\": 0.9025534820556641}}}\n",
      "\u001b[0m\n",
      "\u001b[34m#metrics {\"StartTime\": 1616690056.3986185, \"EndTime\": 1616690056.3986344, \"Dimensions\": {\"Algorithm\": \"Linear Learner\", \"Host\": \"algo-1\", \"Operation\": \"training\", \"epoch\": 0, \"model\": 27}, \"Metrics\": {\"train_absolute_loss_objective\": {\"sum\": 0.8930103874206543, \"count\": 1, \"min\": 0.8930103874206543, \"max\": 0.8930103874206543}}}\n",
      "\u001b[0m\n",
      "\u001b[34m#metrics {\"StartTime\": 1616690056.3986933, \"EndTime\": 1616690056.3987103, \"Dimensions\": {\"Algorithm\": \"Linear Learner\", \"Host\": \"algo-1\", \"Operation\": \"training\", \"epoch\": 0, \"model\": 28}, \"Metrics\": {\"train_absolute_loss_objective\": {\"sum\": 1.0526268005371093, \"count\": 1, \"min\": 1.0526268005371093, \"max\": 1.0526268005371093}}}\n",
      "\u001b[0m\n",
      "\u001b[34m#metrics {\"StartTime\": 1616690056.3987641, \"EndTime\": 1616690056.3987803, \"Dimensions\": {\"Algorithm\": \"Linear Learner\", \"Host\": \"algo-1\", \"Operation\": \"training\", \"epoch\": 0, \"model\": 29}, \"Metrics\": {\"train_absolute_loss_objective\": {\"sum\": 1.0537296104431153, \"count\": 1, \"min\": 1.0537296104431153, \"max\": 1.0537296104431153}}}\n",
      "\u001b[0m\n",
      "\u001b[34m#metrics {\"StartTime\": 1616690056.3988411, \"EndTime\": 1616690056.3988578, \"Dimensions\": {\"Algorithm\": \"Linear Learner\", \"Host\": \"algo-1\", \"Operation\": \"training\", \"epoch\": 0, \"model\": 30}, \"Metrics\": {\"train_absolute_loss_objective\": {\"sum\": 1.0904767608642578, \"count\": 1, \"min\": 1.0904767608642578, \"max\": 1.0904767608642578}}}\n",
      "\u001b[0m\n",
      "\u001b[34m#metrics {\"StartTime\": 1616690056.3989172, \"EndTime\": 1616690056.3989336, \"Dimensions\": {\"Algorithm\": \"Linear Learner\", \"Host\": \"algo-1\", \"Operation\": \"training\", \"epoch\": 0, \"model\": 31}, \"Metrics\": {\"train_absolute_loss_objective\": {\"sum\": 1.0901742744445801, \"count\": 1, \"min\": 1.0901742744445801, \"max\": 1.0901742744445801}}}\n",
      "\u001b[0m\n",
      "\u001b[34m[03/25/2021 16:34:16 INFO 140014102267712] #quality_metric: host=algo-1, epoch=0, train absolute_loss_objective <loss>=0.8834025096893311\u001b[0m\n",
      "\u001b[34m[03/25/2021 16:34:16 INFO 140014102267712] #early_stopping_criteria_metric: host=algo-1, epoch=0, criteria=absolute_loss_objective, value=0.8488049125671386\u001b[0m\n",
      "\u001b[34m[03/25/2021 16:34:16 INFO 140014102267712] Epoch 0: Loss improved. Updating best model\u001b[0m\n",
      "\u001b[34m[03/25/2021 16:34:16 INFO 140014102267712] Saving model for epoch: 0\u001b[0m\n",
      "\u001b[34m[03/25/2021 16:34:16 INFO 140014102267712] Saved checkpoint to \"/tmp/tmp1zcqo7l0/mx-mod-0000.params\"\u001b[0m\n",
      "\u001b[34m[03/25/2021 16:34:16 INFO 140014102267712] #progress_metric: host=algo-1, completed 20.0 % of epochs\u001b[0m\n",
      "\u001b[34m#metrics {\"StartTime\": 1616690056.2979016, \"EndTime\": 1616690056.414584, \"Dimensions\": {\"Algorithm\": \"Linear Learner\", \"Host\": \"algo-1\", \"Operation\": \"training\", \"epoch\": 0, \"Meta\": \"training_data_iter\"}, \"Metrics\": {\"Total Records Seen\": {\"sum\": 61.0, \"count\": 1, \"min\": 61, \"max\": 61}, \"Total Batches Seen\": {\"sum\": 13.0, \"count\": 1, \"min\": 13, \"max\": 13}, \"Max Records Seen Between Resets\": {\"sum\": 28.0, \"count\": 1, \"min\": 28, \"max\": 28}, \"Max Batches Seen Between Resets\": {\"sum\": 6.0, \"count\": 1, \"min\": 6, \"max\": 6}, \"Reset Count\": {\"sum\": 3.0, \"count\": 1, \"min\": 3, \"max\": 3}, \"Number of Records Since Last Reset\": {\"sum\": 28.0, \"count\": 1, \"min\": 28, \"max\": 28}, \"Number of Batches Since Last Reset\": {\"sum\": 6.0, \"count\": 1, \"min\": 6, \"max\": 6}}}\n",
      "\u001b[0m\n",
      "\u001b[34m[03/25/2021 16:34:16 INFO 140014102267712] #throughput_metric: host=algo-1, train throughput=239.70337652901063 records/second\u001b[0m\n",
      "\u001b[34m[2021-03-25 16:34:16.516] [tensorio] [info] epoch_stats={\"data_pipeline\": \"/opt/ml/input/data/train\", \"epoch\": 6, \"duration\": 101, \"num_examples\": 6, \"num_bytes\": 1344}\u001b[0m\n",
      "\u001b[34m#metrics {\"StartTime\": 1616690056.5169182, \"EndTime\": 1616690056.516992, \"Dimensions\": {\"Algorithm\": \"Linear Learner\", \"Host\": \"algo-1\", \"Operation\": \"training\", \"epoch\": 1, \"model\": 0}, \"Metrics\": {\"train_absolute_loss_objective\": {\"sum\": 0.8591226959228515, \"count\": 1, \"min\": 0.8591226959228515, \"max\": 0.8591226959228515}}}\n",
      "\u001b[0m\n",
      "\u001b[34m#metrics {\"StartTime\": 1616690056.517069, \"EndTime\": 1616690056.5170882, \"Dimensions\": {\"Algorithm\": \"Linear Learner\", \"Host\": \"algo-1\", \"Operation\": \"training\", \"epoch\": 1, \"model\": 1}, \"Metrics\": {\"train_absolute_loss_objective\": {\"sum\": 0.878220100402832, \"count\": 1, \"min\": 0.878220100402832, \"max\": 0.878220100402832}}}\n",
      "\u001b[0m\n",
      "\u001b[34m#metrics {\"StartTime\": 1616690056.5171428, \"EndTime\": 1616690056.5171595, \"Dimensions\": {\"Algorithm\": \"Linear Learner\", \"Host\": \"algo-1\", \"Operation\": \"training\", \"epoch\": 1, \"model\": 2}, \"Metrics\": {\"train_absolute_loss_objective\": {\"sum\": 0.8614361000061035, \"count\": 1, \"min\": 0.8614361000061035, \"max\": 0.8614361000061035}}}\n",
      "\u001b[0m\n",
      "\u001b[34m#metrics {\"StartTime\": 1616690056.5172095, \"EndTime\": 1616690056.5172255, \"Dimensions\": {\"Algorithm\": \"Linear Learner\", \"Host\": \"algo-1\", \"Operation\": \"training\", \"epoch\": 1, \"model\": 3}, \"Metrics\": {\"train_absolute_loss_objective\": {\"sum\": 0.8772441291809082, \"count\": 1, \"min\": 0.8772441291809082, \"max\": 0.8772441291809082}}}\n",
      "\u001b[0m\n",
      "\u001b[34m#metrics {\"StartTime\": 1616690056.5172653, \"EndTime\": 1616690056.5172765, \"Dimensions\": {\"Algorithm\": \"Linear Learner\", \"Host\": \"algo-1\", \"Operation\": \"training\", \"epoch\": 1, \"model\": 4}, \"Metrics\": {\"train_absolute_loss_objective\": {\"sum\": 0.6810572910308837, \"count\": 1, \"min\": 0.6810572910308837, \"max\": 0.6810572910308837}}}\n",
      "\u001b[0m\n",
      "\u001b[34m#metrics {\"StartTime\": 1616690056.5173106, \"EndTime\": 1616690056.5173206, \"Dimensions\": {\"Algorithm\": \"Linear Learner\", \"Host\": \"algo-1\", \"Operation\": \"training\", \"epoch\": 1, \"model\": 5}, \"Metrics\": {\"train_absolute_loss_objective\": {\"sum\": 0.6831711387634277, \"count\": 1, \"min\": 0.6831711387634277, \"max\": 0.6831711387634277}}}\n",
      "\u001b[0m\n",
      "\u001b[34m#metrics {\"StartTime\": 1616690056.5173557, \"EndTime\": 1616690056.5173657, \"Dimensions\": {\"Algorithm\": \"Linear Learner\", \"Host\": \"algo-1\", \"Operation\": \"training\", \"epoch\": 1, \"model\": 6}, \"Metrics\": {\"train_absolute_loss_objective\": {\"sum\": 0.6007061624526977, \"count\": 1, \"min\": 0.6007061624526977, \"max\": 0.6007061624526977}}}\n",
      "\u001b[0m\n",
      "\u001b[34m#metrics {\"StartTime\": 1616690056.517401, \"EndTime\": 1616690056.5174108, \"Dimensions\": {\"Algorithm\": \"Linear Learner\", \"Host\": \"algo-1\", \"Operation\": \"training\", \"epoch\": 1, \"model\": 7}, \"Metrics\": {\"train_absolute_loss_objective\": {\"sum\": 0.6949467277526855, \"count\": 1, \"min\": 0.6949467277526855, \"max\": 0.6949467277526855}}}\n",
      "\u001b[0m\n",
      "\u001b[34m#metrics {\"StartTime\": 1616690056.5174458, \"EndTime\": 1616690056.5174558, \"Dimensions\": {\"Algorithm\": \"Linear Learner\", \"Host\": \"algo-1\", \"Operation\": \"training\", \"epoch\": 1, \"model\": 8}, \"Metrics\": {\"train_absolute_loss_objective\": {\"sum\": 0.9127420616149903, \"count\": 1, \"min\": 0.9127420616149903, \"max\": 0.9127420616149903}}}\n",
      "\u001b[0m\n",
      "\u001b[34m#metrics {\"StartTime\": 1616690056.517489, \"EndTime\": 1616690056.5174983, \"Dimensions\": {\"Algorithm\": \"Linear Learner\", \"Host\": \"algo-1\", \"Operation\": \"training\", \"epoch\": 1, \"model\": 9}, \"Metrics\": {\"train_absolute_loss_objective\": {\"sum\": 0.8475845432281495, \"count\": 1, \"min\": 0.8475845432281495, \"max\": 0.8475845432281495}}}\n",
      "\u001b[0m\n",
      "\u001b[34m#metrics {\"StartTime\": 1616690056.5175307, \"EndTime\": 1616690056.51754, \"Dimensions\": {\"Algorithm\": \"Linear Learner\", \"Host\": \"algo-1\", \"Operation\": \"training\", \"epoch\": 1, \"model\": 10}, \"Metrics\": {\"train_absolute_loss_objective\": {\"sum\": 0.854010066986084, \"count\": 1, \"min\": 0.854010066986084, \"max\": 0.854010066986084}}}\n",
      "\u001b[0m\n",
      "\u001b[34m#metrics {\"StartTime\": 1616690056.5175724, \"EndTime\": 1616690056.517582, \"Dimensions\": {\"Algorithm\": \"Linear Learner\", \"Host\": \"algo-1\", \"Operation\": \"training\", \"epoch\": 1, \"model\": 11}, \"Metrics\": {\"train_absolute_loss_objective\": {\"sum\": 0.839801378250122, \"count\": 1, \"min\": 0.839801378250122, \"max\": 0.839801378250122}}}\n",
      "\u001b[0m\n",
      "\u001b[34m#metrics {\"StartTime\": 1616690056.517614, \"EndTime\": 1616690056.517623, \"Dimensions\": {\"Algorithm\": \"Linear Learner\", \"Host\": \"algo-1\", \"Operation\": \"training\", \"epoch\": 1, \"model\": 12}, \"Metrics\": {\"train_absolute_loss_objective\": {\"sum\": 0.6831960868835449, \"count\": 1, \"min\": 0.6831960868835449, \"max\": 0.6831960868835449}}}\n",
      "\u001b[0m\n",
      "\u001b[34m#metrics {\"StartTime\": 1616690056.517684, \"EndTime\": 1616690056.5176995, \"Dimensions\": {\"Algorithm\": \"Linear Learner\", \"Host\": \"algo-1\", \"Operation\": \"training\", \"epoch\": 1, \"model\": 13}, \"Metrics\": {\"train_absolute_loss_objective\": {\"sum\": 0.6888744163513184, \"count\": 1, \"min\": 0.6888744163513184, \"max\": 0.6888744163513184}}}\n",
      "\u001b[0m\n",
      "\u001b[34m#metrics {\"StartTime\": 1616690056.517739, \"EndTime\": 1616690056.5177493, \"Dimensions\": {\"Algorithm\": \"Linear Learner\", \"Host\": \"algo-1\", \"Operation\": \"training\", \"epoch\": 1, \"model\": 14}, \"Metrics\": {\"train_absolute_loss_objective\": {\"sum\": 0.6828744697570801, \"count\": 1, \"min\": 0.6828744697570801, \"max\": 0.6828744697570801}}}\n",
      "\u001b[0m\n",
      "\u001b[34m#metrics {\"StartTime\": 1616690056.5177824, \"EndTime\": 1616690056.517792, \"Dimensions\": {\"Algorithm\": \"Linear Learner\", \"Host\": \"algo-1\", \"Operation\": \"training\", \"epoch\": 1, \"model\": 15}, \"Metrics\": {\"train_absolute_loss_objective\": {\"sum\": 0.6902353191375732, \"count\": 1, \"min\": 0.6902353191375732, \"max\": 0.6902353191375732}}}\n",
      "\u001b[0m\n",
      "\u001b[34m#metrics {\"StartTime\": 1616690056.5178246, \"EndTime\": 1616690056.5178342, \"Dimensions\": {\"Algorithm\": \"Linear Learner\", \"Host\": \"algo-1\", \"Operation\": \"training\", \"epoch\": 1, \"model\": 16}, \"Metrics\": {\"train_absolute_loss_objective\": {\"sum\": 0.8247420120239258, \"count\": 1, \"min\": 0.8247420120239258, \"max\": 0.8247420120239258}}}\n",
      "\u001b[0m\n",
      "\u001b[34m#metrics {\"StartTime\": 1616690056.517867, \"EndTime\": 1616690056.5178764, \"Dimensions\": {\"Algorithm\": \"Linear Learner\", \"Host\": \"algo-1\", \"Operation\": \"training\", \"epoch\": 1, \"model\": 17}, \"Metrics\": {\"train_absolute_loss_objective\": {\"sum\": 0.8736908626556397, \"count\": 1, \"min\": 0.8736908626556397, \"max\": 0.8736908626556397}}}\n",
      "\u001b[0m\n",
      "\u001b[34m#metrics {\"StartTime\": 1616690056.5179112, \"EndTime\": 1616690056.5179207, \"Dimensions\": {\"Algorithm\": \"Linear Learner\", \"Host\": \"algo-1\", \"Operation\": \"training\", \"epoch\": 1, \"model\": 18}, \"Metrics\": {\"train_absolute_loss_objective\": {\"sum\": 0.8505840396881104, \"count\": 1, \"min\": 0.8505840396881104, \"max\": 0.8505840396881104}}}\n",
      "\u001b[0m\n",
      "\u001b[34m#metrics {\"StartTime\": 1616690056.5179546, \"EndTime\": 1616690056.517964, \"Dimensions\": {\"Algorithm\": \"Linear Learner\", \"Host\": \"algo-1\", \"Operation\": \"training\", \"epoch\": 1, \"model\": 19}, \"Metrics\": {\"train_absolute_loss_objective\": {\"sum\": 0.848003625869751, \"count\": 1, \"min\": 0.848003625869751, \"max\": 0.848003625869751}}}\n",
      "\u001b[0m\n",
      "\u001b[34m#metrics {\"StartTime\": 1616690056.517998, \"EndTime\": 1616690056.5180078, \"Dimensions\": {\"Algorithm\": \"Linear Learner\", \"Host\": \"algo-1\", \"Operation\": \"training\", \"epoch\": 1, \"model\": 20}, \"Metrics\": {\"train_absolute_loss_objective\": {\"sum\": 0.7152025985717774, \"count\": 1, \"min\": 0.7152025985717774, \"max\": 0.7152025985717774}}}\n",
      "\u001b[0m\n",
      "\u001b[34m#metrics {\"StartTime\": 1616690056.5180411, \"EndTime\": 1616690056.5180502, \"Dimensions\": {\"Algorithm\": \"Linear Learner\", \"Host\": \"algo-1\", \"Operation\": \"training\", \"epoch\": 1, \"model\": 21}, \"Metrics\": {\"train_absolute_loss_objective\": {\"sum\": 0.8592711734771729, \"count\": 1, \"min\": 0.8592711734771729, \"max\": 0.8592711734771729}}}\n",
      "\u001b[0m\n",
      "\u001b[34m#metrics {\"StartTime\": 1616690056.5180826, \"EndTime\": 1616690056.5180917, \"Dimensions\": {\"Algorithm\": \"Linear Learner\", \"Host\": \"algo-1\", \"Operation\": \"training\", \"epoch\": 1, \"model\": 22}, \"Metrics\": {\"train_absolute_loss_objective\": {\"sum\": 0.7085204935073852, \"count\": 1, \"min\": 0.7085204935073852, \"max\": 0.7085204935073852}}}\n",
      "\u001b[0m\n",
      "\u001b[34m#metrics {\"StartTime\": 1616690056.518124, \"EndTime\": 1616690056.5181332, \"Dimensions\": {\"Algorithm\": \"Linear Learner\", \"Host\": \"algo-1\", \"Operation\": \"training\", \"epoch\": 1, \"model\": 23}, \"Metrics\": {\"train_absolute_loss_objective\": {\"sum\": 0.6202488565444946, \"count\": 1, \"min\": 0.6202488565444946, \"max\": 0.6202488565444946}}}\n",
      "\u001b[0m\n",
      "\u001b[34m#metrics {\"StartTime\": 1616690056.5181677, \"EndTime\": 1616690056.5181773, \"Dimensions\": {\"Algorithm\": \"Linear Learner\", \"Host\": \"algo-1\", \"Operation\": \"training\", \"epoch\": 1, \"model\": 24}, \"Metrics\": {\"train_absolute_loss_objective\": {\"sum\": 0.8673021125793458, \"count\": 1, \"min\": 0.8673021125793458, \"max\": 0.8673021125793458}}}\n",
      "\u001b[0m\n",
      "\u001b[34m#metrics {\"StartTime\": 1616690056.5182106, \"EndTime\": 1616690056.5182197, \"Dimensions\": {\"Algorithm\": \"Linear Learner\", \"Host\": \"algo-1\", \"Operation\": \"training\", \"epoch\": 1, \"model\": 25}, \"Metrics\": {\"train_absolute_loss_objective\": {\"sum\": 0.8914846038818359, \"count\": 1, \"min\": 0.8914846038818359, \"max\": 0.8914846038818359}}}\n",
      "\u001b[0m\n",
      "\u001b[34m#metrics {\"StartTime\": 1616690056.5182524, \"EndTime\": 1616690056.5182614, \"Dimensions\": {\"Algorithm\": \"Linear Learner\", \"Host\": \"algo-1\", \"Operation\": \"training\", \"epoch\": 1, \"model\": 26}, \"Metrics\": {\"train_absolute_loss_objective\": {\"sum\": 0.8817964935302735, \"count\": 1, \"min\": 0.8817964935302735, \"max\": 0.8817964935302735}}}\n",
      "\u001b[0m\n",
      "\u001b[34m#metrics {\"StartTime\": 1616690056.5182939, \"EndTime\": 1616690056.5183032, \"Dimensions\": {\"Algorithm\": \"Linear Learner\", \"Host\": \"algo-1\", \"Operation\": \"training\", \"epoch\": 1, \"model\": 27}, \"Metrics\": {\"train_absolute_loss_objective\": {\"sum\": 0.8819175148010254, \"count\": 1, \"min\": 0.8819175148010254, \"max\": 0.8819175148010254}}}\n",
      "\u001b[0m\n",
      "\u001b[34m#metrics {\"StartTime\": 1616690056.5183356, \"EndTime\": 1616690056.5183446, \"Dimensions\": {\"Algorithm\": \"Linear Learner\", \"Host\": \"algo-1\", \"Operation\": \"training\", \"epoch\": 1, \"model\": 28}, \"Metrics\": {\"train_absolute_loss_objective\": {\"sum\": 1.0690918922424317, \"count\": 1, \"min\": 1.0690918922424317, \"max\": 1.0690918922424317}}}\n",
      "\u001b[0m\n",
      "\u001b[34m#metrics {\"StartTime\": 1616690056.5183775, \"EndTime\": 1616690056.5183866, \"Dimensions\": {\"Algorithm\": \"Linear Learner\", \"Host\": \"algo-1\", \"Operation\": \"training\", \"epoch\": 1, \"model\": 29}, \"Metrics\": {\"train_absolute_loss_objective\": {\"sum\": 1.0682039833068848, \"count\": 1, \"min\": 1.0682039833068848, \"max\": 1.0682039833068848}}}\n",
      "\u001b[0m\n",
      "\u001b[34m#metrics {\"StartTime\": 1616690056.518419, \"EndTime\": 1616690056.5184283, \"Dimensions\": {\"Algorithm\": \"Linear Learner\", \"Host\": \"algo-1\", \"Operation\": \"training\", \"epoch\": 1, \"model\": 30}, \"Metrics\": {\"train_absolute_loss_objective\": {\"sum\": 1.0589001274108887, \"count\": 1, \"min\": 1.0589001274108887, \"max\": 1.0589001274108887}}}\n",
      "\u001b[0m\n",
      "\u001b[34m#metrics {\"StartTime\": 1616690056.5184608, \"EndTime\": 1616690056.5184698, \"Dimensions\": {\"Algorithm\": \"Linear Learner\", \"Host\": \"algo-1\", \"Operation\": \"training\", \"epoch\": 1, \"model\": 31}, \"Metrics\": {\"train_absolute_loss_objective\": {\"sum\": 1.065470027923584, \"count\": 1, \"min\": 1.065470027923584, \"max\": 1.065470027923584}}}\n",
      "\u001b[0m\n",
      "\u001b[34m[03/25/2021 16:34:16 INFO 140014102267712] #quality_metric: host=algo-1, epoch=1, train absolute_loss_objective <loss>=0.8591226959228515\u001b[0m\n",
      "\u001b[34m[03/25/2021 16:34:16 INFO 140014102267712] #early_stopping_criteria_metric: host=algo-1, epoch=1, criteria=absolute_loss_objective, value=0.6007061624526977\u001b[0m\n",
      "\u001b[34m[03/25/2021 16:34:16 INFO 140014102267712] Epoch 1: Loss improved. Updating best model\u001b[0m\n",
      "\u001b[34m[03/25/2021 16:34:16 INFO 140014102267712] Saving model for epoch: 1\u001b[0m\n",
      "\u001b[34m[03/25/2021 16:34:16 INFO 140014102267712] Saved checkpoint to \"/tmp/tmp5j5i9mps/mx-mod-0000.params\"\u001b[0m\n",
      "\u001b[34m[03/25/2021 16:34:16 INFO 140014102267712] #progress_metric: host=algo-1, completed 40.0 % of epochs\u001b[0m\n",
      "\u001b[34m#metrics {\"StartTime\": 1616690056.4148695, \"EndTime\": 1616690056.5260994, \"Dimensions\": {\"Algorithm\": \"Linear Learner\", \"Host\": \"algo-1\", \"Operation\": \"training\", \"epoch\": 1, \"Meta\": \"training_data_iter\"}, \"Metrics\": {\"Total Records Seen\": {\"sum\": 89.0, \"count\": 1, \"min\": 89, \"max\": 89}, \"Total Batches Seen\": {\"sum\": 19.0, \"count\": 1, \"min\": 19, \"max\": 19}, \"Max Records Seen Between Resets\": {\"sum\": 28.0, \"count\": 1, \"min\": 28, \"max\": 28}, \"Max Batches Seen Between Resets\": {\"sum\": 6.0, \"count\": 1, \"min\": 6, \"max\": 6}, \"Reset Count\": {\"sum\": 4.0, \"count\": 1, \"min\": 4, \"max\": 4}, \"Number of Records Since Last Reset\": {\"sum\": 28.0, \"count\": 1, \"min\": 28, \"max\": 28}, \"Number of Batches Since Last Reset\": {\"sum\": 6.0, \"count\": 1, \"min\": 6, \"max\": 6}}}\n",
      "\u001b[0m\n",
      "\u001b[34m[03/25/2021 16:34:16 INFO 140014102267712] #throughput_metric: host=algo-1, train throughput=251.4253124070058 records/second\u001b[0m\n",
      "\u001b[34m[2021-03-25 16:34:16.650] [tensorio] [info] epoch_stats={\"data_pipeline\": \"/opt/ml/input/data/train\", \"epoch\": 8, \"duration\": 123, \"num_examples\": 6, \"num_bytes\": 1344}\u001b[0m\n",
      "\u001b[34m#metrics {\"StartTime\": 1616690056.650196, \"EndTime\": 1616690056.6502724, \"Dimensions\": {\"Algorithm\": \"Linear Learner\", \"Host\": \"algo-1\", \"Operation\": \"training\", \"epoch\": 2, \"model\": 0}, \"Metrics\": {\"train_absolute_loss_objective\": {\"sum\": 0.8381175327301026, \"count\": 1, \"min\": 0.8381175327301026, \"max\": 0.8381175327301026}}}\n",
      "\u001b[0m\n",
      "\u001b[34m#metrics {\"StartTime\": 1616690056.6503515, \"EndTime\": 1616690056.650369, \"Dimensions\": {\"Algorithm\": \"Linear Learner\", \"Host\": \"algo-1\", \"Operation\": \"training\", \"epoch\": 2, \"model\": 1}, \"Metrics\": {\"train_absolute_loss_objective\": {\"sum\": 0.8571322917938232, \"count\": 1, \"min\": 0.8571322917938232, \"max\": 0.8571322917938232}}}\n",
      "\u001b[0m\n",
      "\u001b[34m#metrics {\"StartTime\": 1616690056.6504192, \"EndTime\": 1616690056.650433, \"Dimensions\": {\"Algorithm\": \"Linear Learner\", \"Host\": \"algo-1\", \"Operation\": \"training\", \"epoch\": 2, \"model\": 2}, \"Metrics\": {\"train_absolute_loss_objective\": {\"sum\": 0.8404308891296387, \"count\": 1, \"min\": 0.8404308891296387, \"max\": 0.8404308891296387}}}\n",
      "\u001b[0m\n",
      "\u001b[34m#metrics {\"StartTime\": 1616690056.6504774, \"EndTime\": 1616690056.6504908, \"Dimensions\": {\"Algorithm\": \"Linear Learner\", \"Host\": \"algo-1\", \"Operation\": \"training\", \"epoch\": 2, \"model\": 3}, \"Metrics\": {\"train_absolute_loss_objective\": {\"sum\": 0.8561563396453857, \"count\": 1, \"min\": 0.8561563396453857, \"max\": 0.8561563396453857}}}\n",
      "\u001b[0m\n",
      "\u001b[34m#metrics {\"StartTime\": 1616690056.6505344, \"EndTime\": 1616690056.650547, \"Dimensions\": {\"Algorithm\": \"Linear Learner\", \"Host\": \"algo-1\", \"Operation\": \"training\", \"epoch\": 2, \"model\": 4}, \"Metrics\": {\"train_absolute_loss_objective\": {\"sum\": 0.41880929946899415, \"count\": 1, \"min\": 0.41880929946899415, \"max\": 0.41880929946899415}}}\n",
      "\u001b[0m\n",
      "\u001b[34m#metrics {\"StartTime\": 1616690056.6505885, \"EndTime\": 1616690056.6506002, \"Dimensions\": {\"Algorithm\": \"Linear Learner\", \"Host\": \"algo-1\", \"Operation\": \"training\", \"epoch\": 2, \"model\": 5}, \"Metrics\": {\"train_absolute_loss_objective\": {\"sum\": 0.4233694553375244, \"count\": 1, \"min\": 0.4233694553375244, \"max\": 0.4233694553375244}}}\n",
      "\u001b[0m\n",
      "\u001b[34m#metrics {\"StartTime\": 1616690056.650643, \"EndTime\": 1616690056.6506557, \"Dimensions\": {\"Algorithm\": \"Linear Learner\", \"Host\": \"algo-1\", \"Operation\": \"training\", \"epoch\": 2, \"model\": 6}, \"Metrics\": {\"train_absolute_loss_objective\": {\"sum\": 0.37806919813156126, \"count\": 1, \"min\": 0.37806919813156126, \"max\": 0.37806919813156126}}}\n",
      "\u001b[0m\n",
      "\u001b[34m#metrics {\"StartTime\": 1616690056.6506972, \"EndTime\": 1616690056.6507092, \"Dimensions\": {\"Algorithm\": \"Linear Learner\", \"Host\": \"algo-1\", \"Operation\": \"training\", \"epoch\": 2, \"model\": 7}, \"Metrics\": {\"train_absolute_loss_objective\": {\"sum\": 0.44718572616577146, \"count\": 1, \"min\": 0.44718572616577146, \"max\": 0.44718572616577146}}}\n",
      "\u001b[0m\n",
      "\u001b[34m#metrics {\"StartTime\": 1616690056.6507566, \"EndTime\": 1616690056.650773, \"Dimensions\": {\"Algorithm\": \"Linear Learner\", \"Host\": \"algo-1\", \"Operation\": \"training\", \"epoch\": 2, \"model\": 8}, \"Metrics\": {\"train_absolute_loss_objective\": {\"sum\": 0.891736831665039, \"count\": 1, \"min\": 0.891736831665039, \"max\": 0.891736831665039}}}\n",
      "\u001b[0m\n",
      "\u001b[34m#metrics {\"StartTime\": 1616690056.6508224, \"EndTime\": 1616690056.6508367, \"Dimensions\": {\"Algorithm\": \"Linear Learner\", \"Host\": \"algo-1\", \"Operation\": \"training\", \"epoch\": 2, \"model\": 9}, \"Metrics\": {\"train_absolute_loss_objective\": {\"sum\": 0.8264989185333252, \"count\": 1, \"min\": 0.8264989185333252, \"max\": 0.8264989185333252}}}\n",
      "\u001b[0m\n",
      "\u001b[34m#metrics {\"StartTime\": 1616690056.6508822, \"EndTime\": 1616690056.6508956, \"Dimensions\": {\"Algorithm\": \"Linear Learner\", \"Host\": \"algo-1\", \"Operation\": \"training\", \"epoch\": 2, \"model\": 10}, \"Metrics\": {\"train_absolute_loss_objective\": {\"sum\": 0.8330067920684815, \"count\": 1, \"min\": 0.8330067920684815, \"max\": 0.8330067920684815}}}\n",
      "\u001b[0m\n",
      "\u001b[34m#metrics {\"StartTime\": 1616690056.650938, \"EndTime\": 1616690056.6509502, \"Dimensions\": {\"Algorithm\": \"Linear Learner\", \"Host\": \"algo-1\", \"Operation\": \"training\", \"epoch\": 2, \"model\": 11}, \"Metrics\": {\"train_absolute_loss_objective\": {\"sum\": 0.8187160205841064, \"count\": 1, \"min\": 0.8187160205841064, \"max\": 0.8187160205841064}}}\n",
      "\u001b[0m\n",
      "\u001b[34m#metrics {\"StartTime\": 1616690056.6509905, \"EndTime\": 1616690056.6510026, \"Dimensions\": {\"Algorithm\": \"Linear Learner\", \"Host\": \"algo-1\", \"Operation\": \"training\", \"epoch\": 2, \"model\": 12}, \"Metrics\": {\"train_absolute_loss_objective\": {\"sum\": 0.4240850400924683, \"count\": 1, \"min\": 0.4240850400924683, \"max\": 0.4240850400924683}}}\n",
      "\u001b[0m\n",
      "\u001b[34m#metrics {\"StartTime\": 1616690056.6510453, \"EndTime\": 1616690056.6510582, \"Dimensions\": {\"Algorithm\": \"Linear Learner\", \"Host\": \"algo-1\", \"Operation\": \"training\", \"epoch\": 2, \"model\": 13}, \"Metrics\": {\"train_absolute_loss_objective\": {\"sum\": 0.4353043794631958, \"count\": 1, \"min\": 0.4353043794631958, \"max\": 0.4353043794631958}}}\n",
      "\u001b[0m\n",
      "\u001b[34m#metrics {\"StartTime\": 1616690056.6511004, \"EndTime\": 1616690056.651113, \"Dimensions\": {\"Algorithm\": \"Linear Learner\", \"Host\": \"algo-1\", \"Operation\": \"training\", \"epoch\": 2, \"model\": 14}, \"Metrics\": {\"train_absolute_loss_objective\": {\"sum\": 0.423482403755188, \"count\": 1, \"min\": 0.423482403755188, \"max\": 0.423482403755188}}}\n",
      "\u001b[0m\n",
      "\u001b[34m#metrics {\"StartTime\": 1616690056.6511567, \"EndTime\": 1616690056.6511705, \"Dimensions\": {\"Algorithm\": \"Linear Learner\", \"Host\": \"algo-1\", \"Operation\": \"training\", \"epoch\": 2, \"model\": 15}, \"Metrics\": {\"train_absolute_loss_objective\": {\"sum\": 0.4378540134429932, \"count\": 1, \"min\": 0.4378540134429932, \"max\": 0.4378540134429932}}}\n",
      "\u001b[0m\n",
      "\u001b[34m#metrics {\"StartTime\": 1616690056.651214, \"EndTime\": 1616690056.651227, \"Dimensions\": {\"Algorithm\": \"Linear Learner\", \"Host\": \"algo-1\", \"Operation\": \"training\", \"epoch\": 2, \"model\": 16}, \"Metrics\": {\"train_absolute_loss_objective\": {\"sum\": 0.8040633487701416, \"count\": 1, \"min\": 0.8040633487701416, \"max\": 0.8040633487701416}}}\n",
      "\u001b[0m\n",
      "\u001b[34m#metrics {\"StartTime\": 1616690056.6512682, \"EndTime\": 1616690056.6512814, \"Dimensions\": {\"Algorithm\": \"Linear Learner\", \"Host\": \"algo-1\", \"Operation\": \"training\", \"epoch\": 2, \"model\": 17}, \"Metrics\": {\"train_absolute_loss_objective\": {\"sum\": 0.8527357292175293, \"count\": 1, \"min\": 0.8527357292175293, \"max\": 0.8527357292175293}}}\n",
      "\u001b[0m\n",
      "\u001b[34m#metrics {\"StartTime\": 1616690056.6513236, \"EndTime\": 1616690056.651336, \"Dimensions\": {\"Algorithm\": \"Linear Learner\", \"Host\": \"algo-1\", \"Operation\": \"training\", \"epoch\": 2, \"model\": 18}, \"Metrics\": {\"train_absolute_loss_objective\": {\"sum\": 0.829797830581665, \"count\": 1, \"min\": 0.829797830581665, \"max\": 0.829797830581665}}}\n",
      "\u001b[0m\n",
      "\u001b[34m#metrics {\"StartTime\": 1616690056.6513753, \"EndTime\": 1616690056.6513872, \"Dimensions\": {\"Algorithm\": \"Linear Learner\", \"Host\": \"algo-1\", \"Operation\": \"training\", \"epoch\": 2, \"model\": 19}, \"Metrics\": {\"train_absolute_loss_objective\": {\"sum\": 0.8271463012695313, \"count\": 1, \"min\": 0.8271463012695313, \"max\": 0.8271463012695313}}}\n",
      "\u001b[0m\n",
      "\u001b[34m#metrics {\"StartTime\": 1616690056.6514287, \"EndTime\": 1616690056.6514404, \"Dimensions\": {\"Algorithm\": \"Linear Learner\", \"Host\": \"algo-1\", \"Operation\": \"training\", \"epoch\": 2, \"model\": 20}, \"Metrics\": {\"train_absolute_loss_objective\": {\"sum\": 0.7492295408248901, \"count\": 1, \"min\": 0.7492295408248901, \"max\": 0.7492295408248901}}}\n",
      "\u001b[0m\n",
      "\u001b[34m#metrics {\"StartTime\": 1616690056.6514826, \"EndTime\": 1616690056.6514945, \"Dimensions\": {\"Algorithm\": \"Linear Learner\", \"Host\": \"algo-1\", \"Operation\": \"training\", \"epoch\": 2, \"model\": 21}, \"Metrics\": {\"train_absolute_loss_objective\": {\"sum\": 0.7459669542312622, \"count\": 1, \"min\": 0.7459669542312622, \"max\": 0.7459669542312622}}}\n",
      "\u001b[0m\n",
      "\u001b[34m#metrics {\"StartTime\": 1616690056.6515343, \"EndTime\": 1616690056.6515455, \"Dimensions\": {\"Algorithm\": \"Linear Learner\", \"Host\": \"algo-1\", \"Operation\": \"training\", \"epoch\": 2, \"model\": 22}, \"Metrics\": {\"train_absolute_loss_objective\": {\"sum\": 0.7534736156463623, \"count\": 1, \"min\": 0.7534736156463623, \"max\": 0.7534736156463623}}}\n",
      "\u001b[0m\n",
      "\u001b[34m#metrics {\"StartTime\": 1616690056.6515853, \"EndTime\": 1616690056.6515968, \"Dimensions\": {\"Algorithm\": \"Linear Learner\", \"Host\": \"algo-1\", \"Operation\": \"training\", \"epoch\": 2, \"model\": 23}, \"Metrics\": {\"train_absolute_loss_objective\": {\"sum\": 0.4846145915985107, \"count\": 1, \"min\": 0.4846145915985107, \"max\": 0.4846145915985107}}}\n",
      "\u001b[0m\n",
      "\u001b[34m#metrics {\"StartTime\": 1616690056.6516361, \"EndTime\": 1616690056.6516476, \"Dimensions\": {\"Algorithm\": \"Linear Learner\", \"Host\": \"algo-1\", \"Operation\": \"training\", \"epoch\": 2, \"model\": 24}, \"Metrics\": {\"train_absolute_loss_objective\": {\"sum\": 0.8822390842437744, \"count\": 1, \"min\": 0.8822390842437744, \"max\": 0.8822390842437744}}}\n",
      "\u001b[0m\n",
      "\u001b[34m#metrics {\"StartTime\": 1616690056.6516879, \"EndTime\": 1616690056.6517015, \"Dimensions\": {\"Algorithm\": \"Linear Learner\", \"Host\": \"algo-1\", \"Operation\": \"training\", \"epoch\": 2, \"model\": 25}, \"Metrics\": {\"train_absolute_loss_objective\": {\"sum\": 0.8771573543548584, \"count\": 1, \"min\": 0.8771573543548584, \"max\": 0.8771573543548584}}}\n",
      "\u001b[0m\n",
      "\u001b[34m#metrics {\"StartTime\": 1616690056.6517482, \"EndTime\": 1616690056.651762, \"Dimensions\": {\"Algorithm\": \"Linear Learner\", \"Host\": \"algo-1\", \"Operation\": \"training\", \"epoch\": 2, \"model\": 26}, \"Metrics\": {\"train_absolute_loss_objective\": {\"sum\": 0.8768879413604737, \"count\": 1, \"min\": 0.8768879413604737, \"max\": 0.8768879413604737}}}\n",
      "\u001b[0m\n",
      "\u001b[34m#metrics {\"StartTime\": 1616690056.6518037, \"EndTime\": 1616690056.6518161, \"Dimensions\": {\"Algorithm\": \"Linear Learner\", \"Host\": \"algo-1\", \"Operation\": \"training\", \"epoch\": 2, \"model\": 27}, \"Metrics\": {\"train_absolute_loss_objective\": {\"sum\": 0.8855175304412842, \"count\": 1, \"min\": 0.8855175304412842, \"max\": 0.8855175304412842}}}\n",
      "\u001b[0m\n",
      "\u001b[34m#metrics {\"StartTime\": 1616690056.6518574, \"EndTime\": 1616690056.6518698, \"Dimensions\": {\"Algorithm\": \"Linear Learner\", \"Host\": \"algo-1\", \"Operation\": \"training\", \"epoch\": 2, \"model\": 28}, \"Metrics\": {\"train_absolute_loss_objective\": {\"sum\": 0.9262839698791504, \"count\": 1, \"min\": 0.9262839698791504, \"max\": 0.9262839698791504}}}\n",
      "\u001b[0m\n",
      "\u001b[34m#metrics {\"StartTime\": 1616690056.6519125, \"EndTime\": 1616690056.6519272, \"Dimensions\": {\"Algorithm\": \"Linear Learner\", \"Host\": \"algo-1\", \"Operation\": \"training\", \"epoch\": 2, \"model\": 29}, \"Metrics\": {\"train_absolute_loss_objective\": {\"sum\": 0.9283860301971436, \"count\": 1, \"min\": 0.9283860301971436, \"max\": 0.9283860301971436}}}\n",
      "\u001b[0m\n",
      "\u001b[34m#metrics {\"StartTime\": 1616690056.6519709, \"EndTime\": 1616690056.6519828, \"Dimensions\": {\"Algorithm\": \"Linear Learner\", \"Host\": \"algo-1\", \"Operation\": \"training\", \"epoch\": 2, \"model\": 30}, \"Metrics\": {\"train_absolute_loss_objective\": {\"sum\": 0.9314770793914795, \"count\": 1, \"min\": 0.9314770793914795, \"max\": 0.9314770793914795}}}\n",
      "\u001b[0m\n",
      "\u001b[34m#metrics {\"StartTime\": 1616690056.6520236, \"EndTime\": 1616690056.6520364, \"Dimensions\": {\"Algorithm\": \"Linear Learner\", \"Host\": \"algo-1\", \"Operation\": \"training\", \"epoch\": 2, \"model\": 31}, \"Metrics\": {\"train_absolute_loss_objective\": {\"sum\": 0.9237593936920167, \"count\": 1, \"min\": 0.9237593936920167, \"max\": 0.9237593936920167}}}\n",
      "\u001b[0m\n",
      "\u001b[34m[03/25/2021 16:34:16 INFO 140014102267712] #quality_metric: host=algo-1, epoch=2, train absolute_loss_objective <loss>=0.8381175327301026\u001b[0m\n",
      "\u001b[34m[03/25/2021 16:34:16 INFO 140014102267712] #early_stopping_criteria_metric: host=algo-1, epoch=2, criteria=absolute_loss_objective, value=0.37806919813156126\u001b[0m\n",
      "\u001b[34m[03/25/2021 16:34:16 INFO 140014102267712] Epoch 2: Loss improved. Updating best model\u001b[0m\n",
      "\u001b[34m[03/25/2021 16:34:16 INFO 140014102267712] Saving model for epoch: 2\u001b[0m\n",
      "\u001b[34m[03/25/2021 16:34:16 INFO 140014102267712] Saved checkpoint to \"/tmp/tmpbjwt6go2/mx-mod-0000.params\"\u001b[0m\n",
      "\u001b[34m[03/25/2021 16:34:16 INFO 140014102267712] #progress_metric: host=algo-1, completed 60.0 % of epochs\u001b[0m\n",
      "\u001b[34m#metrics {\"StartTime\": 1616690056.5263844, \"EndTime\": 1616690056.661133, \"Dimensions\": {\"Algorithm\": \"Linear Learner\", \"Host\": \"algo-1\", \"Operation\": \"training\", \"epoch\": 2, \"Meta\": \"training_data_iter\"}, \"Metrics\": {\"Total Records Seen\": {\"sum\": 117.0, \"count\": 1, \"min\": 117, \"max\": 117}, \"Total Batches Seen\": {\"sum\": 25.0, \"count\": 1, \"min\": 25, \"max\": 25}, \"Max Records Seen Between Resets\": {\"sum\": 28.0, \"count\": 1, \"min\": 28, \"max\": 28}, \"Max Batches Seen Between Resets\": {\"sum\": 6.0, \"count\": 1, \"min\": 6, \"max\": 6}, \"Reset Count\": {\"sum\": 5.0, \"count\": 1, \"min\": 5, \"max\": 5}, \"Number of Records Since Last Reset\": {\"sum\": 28.0, \"count\": 1, \"min\": 28, \"max\": 28}, \"Number of Batches Since Last Reset\": {\"sum\": 6.0, \"count\": 1, \"min\": 6, \"max\": 6}}}\n",
      "\u001b[0m\n",
      "\u001b[34m[03/25/2021 16:34:16 INFO 140014102267712] #throughput_metric: host=algo-1, train throughput=207.59733645859296 records/second\u001b[0m\n",
      "\u001b[34m[2021-03-25 16:34:16.791] [tensorio] [info] epoch_stats={\"data_pipeline\": \"/opt/ml/input/data/train\", \"epoch\": 10, \"duration\": 129, \"num_examples\": 6, \"num_bytes\": 1344}\u001b[0m\n",
      "\u001b[34m#metrics {\"StartTime\": 1616690056.7910783, \"EndTime\": 1616690056.7911482, \"Dimensions\": {\"Algorithm\": \"Linear Learner\", \"Host\": \"algo-1\", \"Operation\": \"training\", \"epoch\": 3, \"model\": 0}, \"Metrics\": {\"train_absolute_loss_objective\": {\"sum\": 0.8174573993682861, \"count\": 1, \"min\": 0.8174573993682861, \"max\": 0.8174573993682861}}}\n",
      "\u001b[0m\n",
      "\u001b[34m#metrics {\"StartTime\": 1616690056.7912345, \"EndTime\": 1616690056.79125, \"Dimensions\": {\"Algorithm\": \"Linear Learner\", \"Host\": \"algo-1\", \"Operation\": \"training\", \"epoch\": 3, \"model\": 1}, \"Metrics\": {\"train_absolute_loss_objective\": {\"sum\": 0.8362634754180909, \"count\": 1, \"min\": 0.8362634754180909, \"max\": 0.8362634754180909}}}\n",
      "\u001b[0m\n",
      "\u001b[34m#metrics {\"StartTime\": 1616690056.7913196, \"EndTime\": 1616690056.7913377, \"Dimensions\": {\"Algorithm\": \"Linear Learner\", \"Host\": \"algo-1\", \"Operation\": \"training\", \"epoch\": 3, \"model\": 2}, \"Metrics\": {\"train_absolute_loss_objective\": {\"sum\": 0.8197707748413086, \"count\": 1, \"min\": 0.8197707748413086, \"max\": 0.8197707748413086}}}\n",
      "\u001b[0m\n",
      "\u001b[34m#metrics {\"StartTime\": 1616690056.79139, \"EndTime\": 1616690056.7914073, \"Dimensions\": {\"Algorithm\": \"Linear Learner\", \"Host\": \"algo-1\", \"Operation\": \"training\", \"epoch\": 3, \"model\": 3}, \"Metrics\": {\"train_absolute_loss_objective\": {\"sum\": 0.8352875328063964, \"count\": 1, \"min\": 0.8352875328063964, \"max\": 0.8352875328063964}}}\n",
      "\u001b[0m\n",
      "\u001b[34m#metrics {\"StartTime\": 1616690056.7914617, \"EndTime\": 1616690056.79148, \"Dimensions\": {\"Algorithm\": \"Linear Learner\", \"Host\": \"algo-1\", \"Operation\": \"training\", \"epoch\": 3, \"model\": 4}, \"Metrics\": {\"train_absolute_loss_objective\": {\"sum\": 0.31369738101959227, \"count\": 1, \"min\": 0.31369738101959227, \"max\": 0.31369738101959227}}}\n",
      "\u001b[0m\n",
      "\u001b[34m#metrics {\"StartTime\": 1616690056.7915258, \"EndTime\": 1616690056.791542, \"Dimensions\": {\"Algorithm\": \"Linear Learner\", \"Host\": \"algo-1\", \"Operation\": \"training\", \"epoch\": 3, \"model\": 5}, \"Metrics\": {\"train_absolute_loss_objective\": {\"sum\": 0.3157158851623535, \"count\": 1, \"min\": 0.3157158851623535, \"max\": 0.3157158851623535}}}\n",
      "\u001b[0m\n",
      "\u001b[34m#metrics {\"StartTime\": 1616690056.7915943, \"EndTime\": 1616690056.791611, \"Dimensions\": {\"Algorithm\": \"Linear Learner\", \"Host\": \"algo-1\", \"Operation\": \"training\", \"epoch\": 3, \"model\": 6}, \"Metrics\": {\"train_absolute_loss_objective\": {\"sum\": 0.351894211769104, \"count\": 1, \"min\": 0.351894211769104, \"max\": 0.351894211769104}}}\n",
      "\u001b[0m\n",
      "\u001b[34m#metrics {\"StartTime\": 1616690056.7916582, \"EndTime\": 1616690056.7916746, \"Dimensions\": {\"Algorithm\": \"Linear Learner\", \"Host\": \"algo-1\", \"Operation\": \"training\", \"epoch\": 3, \"model\": 7}, \"Metrics\": {\"train_absolute_loss_objective\": {\"sum\": 0.35749815464019774, \"count\": 1, \"min\": 0.35749815464019774, \"max\": 0.35749815464019774}}}\n",
      "\u001b[0m\n",
      "\u001b[34m#metrics {\"StartTime\": 1616690056.7917256, \"EndTime\": 1616690056.7917423, \"Dimensions\": {\"Algorithm\": \"Linear Learner\", \"Host\": \"algo-1\", \"Operation\": \"training\", \"epoch\": 3, \"model\": 8}, \"Metrics\": {\"train_absolute_loss_objective\": {\"sum\": 0.8710780429840088, \"count\": 1, \"min\": 0.8710780429840088, \"max\": 0.8710780429840088}}}\n",
      "\u001b[0m\n",
      "\u001b[34m#metrics {\"StartTime\": 1616690056.7917962, \"EndTime\": 1616690056.7918136, \"Dimensions\": {\"Algorithm\": \"Linear Learner\", \"Host\": \"algo-1\", \"Operation\": \"training\", \"epoch\": 3, \"model\": 9}, \"Metrics\": {\"train_absolute_loss_objective\": {\"sum\": 0.8056336879730225, \"count\": 1, \"min\": 0.8056336879730225, \"max\": 0.8056336879730225}}}\n",
      "\u001b[0m\n",
      "\u001b[34m#metrics {\"StartTime\": 1616690056.7918653, \"EndTime\": 1616690056.7918816, \"Dimensions\": {\"Algorithm\": \"Linear Learner\", \"Host\": \"algo-1\", \"Operation\": \"training\", \"epoch\": 3, \"model\": 10}, \"Metrics\": {\"train_absolute_loss_objective\": {\"sum\": 0.8123499774932861, \"count\": 1, \"min\": 0.8123499774932861, \"max\": 0.8123499774932861}}}\n",
      "\u001b[0m\n",
      "\u001b[34m#metrics {\"StartTime\": 1616690056.7919333, \"EndTime\": 1616690056.791949, \"Dimensions\": {\"Algorithm\": \"Linear Learner\", \"Host\": \"algo-1\", \"Operation\": \"training\", \"epoch\": 3, \"model\": 11}, \"Metrics\": {\"train_absolute_loss_objective\": {\"sum\": 0.7978510284423828, \"count\": 1, \"min\": 0.7978510284423828, \"max\": 0.7978510284423828}}}\n",
      "\u001b[0m\n",
      "\u001b[34m#metrics {\"StartTime\": 1616690056.7919953, \"EndTime\": 1616690056.7920108, \"Dimensions\": {\"Algorithm\": \"Linear Learner\", \"Host\": \"algo-1\", \"Operation\": \"training\", \"epoch\": 3, \"model\": 12}, \"Metrics\": {\"train_absolute_loss_objective\": {\"sum\": 0.3089494895935059, \"count\": 1, \"min\": 0.3089494895935059, \"max\": 0.3089494895935059}}}\n",
      "\u001b[0m\n",
      "\u001b[34m#metrics {\"StartTime\": 1616690056.7920604, \"EndTime\": 1616690056.7920766, \"Dimensions\": {\"Algorithm\": \"Linear Learner\", \"Host\": \"algo-1\", \"Operation\": \"training\", \"epoch\": 3, \"model\": 13}, \"Metrics\": {\"train_absolute_loss_objective\": {\"sum\": 0.3063522243499756, \"count\": 1, \"min\": 0.3063522243499756, \"max\": 0.3063522243499756}}}\n",
      "\u001b[0m\n",
      "\u001b[34m#metrics {\"StartTime\": 1616690056.7921321, \"EndTime\": 1616690056.7921493, \"Dimensions\": {\"Algorithm\": \"Linear Learner\", \"Host\": \"algo-1\", \"Operation\": \"training\", \"epoch\": 3, \"model\": 14}, \"Metrics\": {\"train_absolute_loss_objective\": {\"sum\": 0.30936767578125, \"count\": 1, \"min\": 0.30936767578125, \"max\": 0.30936767578125}}}\n",
      "\u001b[0m\n",
      "\u001b[34m#metrics {\"StartTime\": 1616690056.7921944, \"EndTime\": 1616690056.7922099, \"Dimensions\": {\"Algorithm\": \"Linear Learner\", \"Host\": \"algo-1\", \"Operation\": \"training\", \"epoch\": 3, \"model\": 15}, \"Metrics\": {\"train_absolute_loss_objective\": {\"sum\": 0.30458309173583986, \"count\": 1, \"min\": 0.30458309173583986, \"max\": 0.30458309173583986}}}\n",
      "\u001b[0m\n",
      "\u001b[34m#metrics {\"StartTime\": 1616690056.7922604, \"EndTime\": 1616690056.7922754, \"Dimensions\": {\"Algorithm\": \"Linear Learner\", \"Host\": \"algo-1\", \"Operation\": \"training\", \"epoch\": 3, \"model\": 16}, \"Metrics\": {\"train_absolute_loss_objective\": {\"sum\": 0.7838918209075928, \"count\": 1, \"min\": 0.7838918209075928, \"max\": 0.7838918209075928}}}\n",
      "\u001b[0m\n",
      "\u001b[34m#metrics {\"StartTime\": 1616690056.792327, \"EndTime\": 1616690056.7923436, \"Dimensions\": {\"Algorithm\": \"Linear Learner\", \"Host\": \"algo-1\", \"Operation\": \"training\", \"epoch\": 3, \"model\": 17}, \"Metrics\": {\"train_absolute_loss_objective\": {\"sum\": 0.8321531963348389, \"count\": 1, \"min\": 0.8321531963348389, \"max\": 0.8321531963348389}}}\n",
      "\u001b[0m\n",
      "\u001b[34m#metrics {\"StartTime\": 1616690056.7924035, \"EndTime\": 1616690056.7924201, \"Dimensions\": {\"Algorithm\": \"Linear Learner\", \"Host\": \"algo-1\", \"Operation\": \"training\", \"epoch\": 3, \"model\": 18}, \"Metrics\": {\"train_absolute_loss_objective\": {\"sum\": 0.8095125865936279, \"count\": 1, \"min\": 0.8095125865936279, \"max\": 0.8095125865936279}}}\n",
      "\u001b[0m\n",
      "\u001b[34m#metrics {\"StartTime\": 1616690056.792471, \"EndTime\": 1616690056.7924871, \"Dimensions\": {\"Algorithm\": \"Linear Learner\", \"Host\": \"algo-1\", \"Operation\": \"training\", \"epoch\": 3, \"model\": 19}, \"Metrics\": {\"train_absolute_loss_objective\": {\"sum\": 0.8066679286956787, \"count\": 1, \"min\": 0.8066679286956787, \"max\": 0.8066679286956787}}}\n",
      "\u001b[0m\n",
      "\u001b[34m#metrics {\"StartTime\": 1616690056.7925313, \"EndTime\": 1616690056.7925413, \"Dimensions\": {\"Algorithm\": \"Linear Learner\", \"Host\": \"algo-1\", \"Operation\": \"training\", \"epoch\": 3, \"model\": 20}, \"Metrics\": {\"train_absolute_loss_objective\": {\"sum\": 0.48586291313171387, \"count\": 1, \"min\": 0.48586291313171387, \"max\": 0.48586291313171387}}}\n",
      "\u001b[0m\n",
      "\u001b[34m#metrics {\"StartTime\": 1616690056.7925854, \"EndTime\": 1616690056.7925987, \"Dimensions\": {\"Algorithm\": \"Linear Learner\", \"Host\": \"algo-1\", \"Operation\": \"training\", \"epoch\": 3, \"model\": 21}, \"Metrics\": {\"train_absolute_loss_objective\": {\"sum\": 0.5396132040023803, \"count\": 1, \"min\": 0.5396132040023803, \"max\": 0.5396132040023803}}}\n",
      "\u001b[0m\n",
      "\u001b[34m#metrics {\"StartTime\": 1616690056.7926466, \"EndTime\": 1616690056.792662, \"Dimensions\": {\"Algorithm\": \"Linear Learner\", \"Host\": \"algo-1\", \"Operation\": \"training\", \"epoch\": 3, \"model\": 22}, \"Metrics\": {\"train_absolute_loss_objective\": {\"sum\": 0.5005165815353394, \"count\": 1, \"min\": 0.5005165815353394, \"max\": 0.5005165815353394}}}\n",
      "\u001b[0m\n",
      "\u001b[34m#metrics {\"StartTime\": 1616690056.7927127, \"EndTime\": 1616690056.7927284, \"Dimensions\": {\"Algorithm\": \"Linear Learner\", \"Host\": \"algo-1\", \"Operation\": \"training\", \"epoch\": 3, \"model\": 23}, \"Metrics\": {\"train_absolute_loss_objective\": {\"sum\": 0.4260416650772095, \"count\": 1, \"min\": 0.4260416650772095, \"max\": 0.4260416650772095}}}\n",
      "\u001b[0m\n",
      "\u001b[34m#metrics {\"StartTime\": 1616690056.7927701, \"EndTime\": 1616690056.7927794, \"Dimensions\": {\"Algorithm\": \"Linear Learner\", \"Host\": \"algo-1\", \"Operation\": \"training\", \"epoch\": 3, \"model\": 24}, \"Metrics\": {\"train_absolute_loss_objective\": {\"sum\": 0.8911813640594483, \"count\": 1, \"min\": 0.8911813640594483, \"max\": 0.8911813640594483}}}\n",
      "\u001b[0m\n",
      "\u001b[34m#metrics {\"StartTime\": 1616690056.7928147, \"EndTime\": 1616690056.7928295, \"Dimensions\": {\"Algorithm\": \"Linear Learner\", \"Host\": \"algo-1\", \"Operation\": \"training\", \"epoch\": 3, \"model\": 25}, \"Metrics\": {\"train_absolute_loss_objective\": {\"sum\": 0.8729080963134765, \"count\": 1, \"min\": 0.8729080963134765, \"max\": 0.8729080963134765}}}\n",
      "\u001b[0m\n",
      "\u001b[34m#metrics {\"StartTime\": 1616690056.7928853, \"EndTime\": 1616690056.7929013, \"Dimensions\": {\"Algorithm\": \"Linear Learner\", \"Host\": \"algo-1\", \"Operation\": \"training\", \"epoch\": 3, \"model\": 26}, \"Metrics\": {\"train_absolute_loss_objective\": {\"sum\": 0.8811823844909668, \"count\": 1, \"min\": 0.8811823844909668, \"max\": 0.8811823844909668}}}\n",
      "\u001b[0m\n",
      "\u001b[34m#metrics {\"StartTime\": 1616690056.7929494, \"EndTime\": 1616690056.7929657, \"Dimensions\": {\"Algorithm\": \"Linear Learner\", \"Host\": \"algo-1\", \"Operation\": \"training\", \"epoch\": 3, \"model\": 27}, \"Metrics\": {\"train_absolute_loss_objective\": {\"sum\": 0.8849549865722657, \"count\": 1, \"min\": 0.8849549865722657, \"max\": 0.8849549865722657}}}\n",
      "\u001b[0m\n",
      "\u001b[34m#metrics {\"StartTime\": 1616690056.793019, \"EndTime\": 1616690056.7930346, \"Dimensions\": {\"Algorithm\": \"Linear Learner\", \"Host\": \"algo-1\", \"Operation\": \"training\", \"epoch\": 3, \"model\": 28}, \"Metrics\": {\"train_absolute_loss_objective\": {\"sum\": 0.9072641563415528, \"count\": 1, \"min\": 0.9072641563415528, \"max\": 0.9072641563415528}}}\n",
      "\u001b[0m\n",
      "\u001b[34m#metrics {\"StartTime\": 1616690056.7930794, \"EndTime\": 1616690056.7930925, \"Dimensions\": {\"Algorithm\": \"Linear Learner\", \"Host\": \"algo-1\", \"Operation\": \"training\", \"epoch\": 3, \"model\": 29}, \"Metrics\": {\"train_absolute_loss_objective\": {\"sum\": 0.9072364234924316, \"count\": 1, \"min\": 0.9072364234924316, \"max\": 0.9072364234924316}}}\n",
      "\u001b[0m\n",
      "\u001b[34m#metrics {\"StartTime\": 1616690056.7931395, \"EndTime\": 1616690056.7931554, \"Dimensions\": {\"Algorithm\": \"Linear Learner\", \"Host\": \"algo-1\", \"Operation\": \"training\", \"epoch\": 3, \"model\": 30}, \"Metrics\": {\"train_absolute_loss_objective\": {\"sum\": 0.9068407440185546, \"count\": 1, \"min\": 0.9068407440185546, \"max\": 0.9068407440185546}}}\n",
      "\u001b[0m\n",
      "\u001b[34m#metrics {\"StartTime\": 1616690056.7932127, \"EndTime\": 1616690056.7932296, \"Dimensions\": {\"Algorithm\": \"Linear Learner\", \"Host\": \"algo-1\", \"Operation\": \"training\", \"epoch\": 3, \"model\": 31}, \"Metrics\": {\"train_absolute_loss_objective\": {\"sum\": 0.9180499935150146, \"count\": 1, \"min\": 0.9180499935150146, \"max\": 0.9180499935150146}}}\n",
      "\u001b[0m\n",
      "\u001b[34m[03/25/2021 16:34:16 INFO 140014102267712] #quality_metric: host=algo-1, epoch=3, train absolute_loss_objective <loss>=0.8174573993682861\u001b[0m\n",
      "\u001b[34m[03/25/2021 16:34:16 INFO 140014102267712] #early_stopping_criteria_metric: host=algo-1, epoch=3, criteria=absolute_loss_objective, value=0.30458309173583986\u001b[0m\n",
      "\u001b[34m[03/25/2021 16:34:16 INFO 140014102267712] Epoch 3: Loss improved. Updating best model\u001b[0m\n",
      "\u001b[34m[03/25/2021 16:34:16 INFO 140014102267712] Saving model for epoch: 3\u001b[0m\n",
      "\u001b[34m[03/25/2021 16:34:16 INFO 140014102267712] Saved checkpoint to \"/tmp/tmpi0szh7ak/mx-mod-0000.params\"\u001b[0m\n",
      "\u001b[34m[03/25/2021 16:34:16 INFO 140014102267712] #progress_metric: host=algo-1, completed 80.0 % of epochs\u001b[0m\n",
      "\u001b[34m#metrics {\"StartTime\": 1616690056.661435, \"EndTime\": 1616690056.800654, \"Dimensions\": {\"Algorithm\": \"Linear Learner\", \"Host\": \"algo-1\", \"Operation\": \"training\", \"epoch\": 3, \"Meta\": \"training_data_iter\"}, \"Metrics\": {\"Total Records Seen\": {\"sum\": 145.0, \"count\": 1, \"min\": 145, \"max\": 145}, \"Total Batches Seen\": {\"sum\": 31.0, \"count\": 1, \"min\": 31, \"max\": 31}, \"Max Records Seen Between Resets\": {\"sum\": 28.0, \"count\": 1, \"min\": 28, \"max\": 28}, \"Max Batches Seen Between Resets\": {\"sum\": 6.0, \"count\": 1, \"min\": 6, \"max\": 6}, \"Reset Count\": {\"sum\": 6.0, \"count\": 1, \"min\": 6, \"max\": 6}, \"Number of Records Since Last Reset\": {\"sum\": 28.0, \"count\": 1, \"min\": 28, \"max\": 28}, \"Number of Batches Since Last Reset\": {\"sum\": 6.0, \"count\": 1, \"min\": 6, \"max\": 6}}}\n",
      "\u001b[0m\n",
      "\u001b[34m[03/25/2021 16:34:16 INFO 140014102267712] #throughput_metric: host=algo-1, train throughput=200.9539659317437 records/second\u001b[0m\n",
      "\u001b[34m[2021-03-25 16:34:16.916] [tensorio] [info] epoch_stats={\"data_pipeline\": \"/opt/ml/input/data/train\", \"epoch\": 12, \"duration\": 115, \"num_examples\": 6, \"num_bytes\": 1344}\u001b[0m\n",
      "\u001b[34m#metrics {\"StartTime\": 1616690056.9163482, \"EndTime\": 1616690056.916395, \"Dimensions\": {\"Algorithm\": \"Linear Learner\", \"Host\": \"algo-1\", \"Operation\": \"training\", \"epoch\": 4, \"model\": 0}, \"Metrics\": {\"train_absolute_loss_objective\": {\"sum\": 0.7969406890869141, \"count\": 1, \"min\": 0.7969406890869141, \"max\": 0.7969406890869141}}}\n",
      "\u001b[0m\n",
      "\u001b[34m#metrics {\"StartTime\": 1616690056.9164488, \"EndTime\": 1616690056.91646, \"Dimensions\": {\"Algorithm\": \"Linear Learner\", \"Host\": \"algo-1\", \"Operation\": \"training\", \"epoch\": 4, \"model\": 1}, \"Metrics\": {\"train_absolute_loss_objective\": {\"sum\": 0.8154530048370361, \"count\": 1, \"min\": 0.8154530048370361, \"max\": 0.8154530048370361}}}\n",
      "\u001b[0m\n",
      "\u001b[34m#metrics {\"StartTime\": 1616690056.9164894, \"EndTime\": 1616690056.916498, \"Dimensions\": {\"Algorithm\": \"Linear Learner\", \"Host\": \"algo-1\", \"Operation\": \"training\", \"epoch\": 4, \"model\": 2}, \"Metrics\": {\"train_absolute_loss_objective\": {\"sum\": 0.7992540454864502, \"count\": 1, \"min\": 0.7992540454864502, \"max\": 0.7992540454864502}}}\n",
      "\u001b[0m\n",
      "\u001b[34m#metrics {\"StartTime\": 1616690056.9165232, \"EndTime\": 1616690056.9165306, \"Dimensions\": {\"Algorithm\": \"Linear Learner\", \"Host\": \"algo-1\", \"Operation\": \"training\", \"epoch\": 4, \"model\": 3}, \"Metrics\": {\"train_absolute_loss_objective\": {\"sum\": 0.8144770336151123, \"count\": 1, \"min\": 0.8144770336151123, \"max\": 0.8144770336151123}}}\n",
      "\u001b[0m\n",
      "\u001b[34m#metrics {\"StartTime\": 1616690056.9165545, \"EndTime\": 1616690056.9165616, \"Dimensions\": {\"Algorithm\": \"Linear Learner\", \"Host\": \"algo-1\", \"Operation\": \"training\", \"epoch\": 4, \"model\": 4}, \"Metrics\": {\"train_absolute_loss_objective\": {\"sum\": 0.25109352827072146, \"count\": 1, \"min\": 0.25109352827072146, \"max\": 0.25109352827072146}}}\n",
      "\u001b[0m\n",
      "\u001b[34m#metrics {\"StartTime\": 1616690056.9165878, \"EndTime\": 1616690056.9165952, \"Dimensions\": {\"Algorithm\": \"Linear Learner\", \"Host\": \"algo-1\", \"Operation\": \"training\", \"epoch\": 4, \"model\": 5}, \"Metrics\": {\"train_absolute_loss_objective\": {\"sum\": 0.2473393440246582, \"count\": 1, \"min\": 0.2473393440246582, \"max\": 0.2473393440246582}}}\n",
      "\u001b[0m\n",
      "\u001b[34m#metrics {\"StartTime\": 1616690056.916619, \"EndTime\": 1616690056.9166262, \"Dimensions\": {\"Algorithm\": \"Linear Learner\", \"Host\": \"algo-1\", \"Operation\": \"training\", \"epoch\": 4, \"model\": 6}, \"Metrics\": {\"train_absolute_loss_objective\": {\"sum\": 0.3181201124191284, \"count\": 1, \"min\": 0.3181201124191284, \"max\": 0.3181201124191284}}}\n",
      "\u001b[0m\n",
      "\u001b[34m#metrics {\"StartTime\": 1616690056.9166486, \"EndTime\": 1616690056.9166558, \"Dimensions\": {\"Algorithm\": \"Linear Learner\", \"Host\": \"algo-1\", \"Operation\": \"training\", \"epoch\": 4, \"model\": 7}, \"Metrics\": {\"train_absolute_loss_objective\": {\"sum\": 0.2681142997741699, \"count\": 1, \"min\": 0.2681142997741699, \"max\": 0.2681142997741699}}}\n",
      "\u001b[0m\n",
      "\u001b[34m#metrics {\"StartTime\": 1616690056.9166782, \"EndTime\": 1616690056.9166849, \"Dimensions\": {\"Algorithm\": \"Linear Learner\", \"Host\": \"algo-1\", \"Operation\": \"training\", \"epoch\": 4, \"model\": 8}, \"Metrics\": {\"train_absolute_loss_objective\": {\"sum\": 0.8505644702911377, \"count\": 1, \"min\": 0.8505644702911377, \"max\": 0.8505644702911377}}}\n",
      "\u001b[0m\n",
      "\u001b[34m#metrics {\"StartTime\": 1616690056.9167068, \"EndTime\": 1616690056.9167135, \"Dimensions\": {\"Algorithm\": \"Linear Learner\", \"Host\": \"algo-1\", \"Operation\": \"training\", \"epoch\": 4, \"model\": 9}, \"Metrics\": {\"train_absolute_loss_objective\": {\"sum\": 0.784828577041626, \"count\": 1, \"min\": 0.784828577041626, \"max\": 0.784828577041626}}}\n",
      "\u001b[0m\n",
      "\u001b[34m#metrics {\"StartTime\": 1616690056.9167356, \"EndTime\": 1616690056.9167423, \"Dimensions\": {\"Algorithm\": \"Linear Learner\", \"Host\": \"algo-1\", \"Operation\": \"training\", \"epoch\": 4, \"model\": 10}, \"Metrics\": {\"train_absolute_loss_objective\": {\"sum\": 0.7918383312225342, \"count\": 1, \"min\": 0.7918383312225342, \"max\": 0.7918383312225342}}}\n",
      "\u001b[0m\n",
      "\u001b[34m#metrics {\"StartTime\": 1616690056.9167657, \"EndTime\": 1616690056.9167726, \"Dimensions\": {\"Algorithm\": \"Linear Learner\", \"Host\": \"algo-1\", \"Operation\": \"training\", \"epoch\": 4, \"model\": 11}, \"Metrics\": {\"train_absolute_loss_objective\": {\"sum\": 0.7770461845397949, \"count\": 1, \"min\": 0.7770461845397949, \"max\": 0.7770461845397949}}}\n",
      "\u001b[0m\n",
      "\u001b[34m#metrics {\"StartTime\": 1616690056.9167974, \"EndTime\": 1616690056.9168048, \"Dimensions\": {\"Algorithm\": \"Linear Learner\", \"Host\": \"algo-1\", \"Operation\": \"training\", \"epoch\": 4, \"model\": 12}, \"Metrics\": {\"train_absolute_loss_objective\": {\"sum\": 0.24016739130020143, \"count\": 1, \"min\": 0.24016739130020143, \"max\": 0.24016739130020143}}}\n",
      "\u001b[0m\n",
      "\u001b[34m#metrics {\"StartTime\": 1616690056.9168282, \"EndTime\": 1616690056.916835, \"Dimensions\": {\"Algorithm\": \"Linear Learner\", \"Host\": \"algo-1\", \"Operation\": \"training\", \"epoch\": 4, \"model\": 13}, \"Metrics\": {\"train_absolute_loss_objective\": {\"sum\": 0.22815849781036376, \"count\": 1, \"min\": 0.22815849781036376, \"max\": 0.22815849781036376}}}\n",
      "\u001b[0m\n",
      "\u001b[34m#metrics {\"StartTime\": 1616690056.9168575, \"EndTime\": 1616690056.9168649, \"Dimensions\": {\"Algorithm\": \"Linear Learner\", \"Host\": \"algo-1\", \"Operation\": \"training\", \"epoch\": 4, \"model\": 14}, \"Metrics\": {\"train_absolute_loss_objective\": {\"sum\": 0.240914306640625, \"count\": 1, \"min\": 0.240914306640625, \"max\": 0.240914306640625}}}\n",
      "\u001b[0m\n",
      "\u001b[34m#metrics {\"StartTime\": 1616690056.9168873, \"EndTime\": 1616690056.9168942, \"Dimensions\": {\"Algorithm\": \"Linear Learner\", \"Host\": \"algo-1\", \"Operation\": \"training\", \"epoch\": 4, \"model\": 15}, \"Metrics\": {\"train_absolute_loss_objective\": {\"sum\": 0.22499873638153076, \"count\": 1, \"min\": 0.22499873638153076, \"max\": 0.22499873638153076}}}\n",
      "\u001b[0m\n",
      "\u001b[34m#metrics {\"StartTime\": 1616690056.9169164, \"EndTime\": 1616690056.916923, \"Dimensions\": {\"Algorithm\": \"Linear Learner\", \"Host\": \"algo-1\", \"Operation\": \"training\", \"epoch\": 4, \"model\": 16}, \"Metrics\": {\"train_absolute_loss_objective\": {\"sum\": 0.7640696144104004, \"count\": 1, \"min\": 0.7640696144104004, \"max\": 0.7640696144104004}}}\n",
      "\u001b[0m\n",
      "\u001b[34m#metrics {\"StartTime\": 1616690056.9169452, \"EndTime\": 1616690056.9169521, \"Dimensions\": {\"Algorithm\": \"Linear Learner\", \"Host\": \"algo-1\", \"Operation\": \"training\", \"epoch\": 4, \"model\": 17}, \"Metrics\": {\"train_absolute_loss_objective\": {\"sum\": 0.8118257904052735, \"count\": 1, \"min\": 0.8118257904052735, \"max\": 0.8118257904052735}}}\n",
      "\u001b[0m\n",
      "\u001b[34m#metrics {\"StartTime\": 1616690056.916974, \"EndTime\": 1616690056.916981, \"Dimensions\": {\"Algorithm\": \"Linear Learner\", \"Host\": \"algo-1\", \"Operation\": \"training\", \"epoch\": 4, \"model\": 18}, \"Metrics\": {\"train_absolute_loss_objective\": {\"sum\": 0.7895684432983399, \"count\": 1, \"min\": 0.7895684432983399, \"max\": 0.7895684432983399}}}\n",
      "\u001b[0m\n",
      "\u001b[34m#metrics {\"StartTime\": 1616690056.917003, \"EndTime\": 1616690056.9170096, \"Dimensions\": {\"Algorithm\": \"Linear Learner\", \"Host\": \"algo-1\", \"Operation\": \"training\", \"epoch\": 4, \"model\": 19}, \"Metrics\": {\"train_absolute_loss_objective\": {\"sum\": 0.7864530849456787, \"count\": 1, \"min\": 0.7864530849456787, \"max\": 0.7864530849456787}}}\n",
      "\u001b[0m\n",
      "\u001b[34m#metrics {\"StartTime\": 1616690056.9170318, \"EndTime\": 1616690056.9170387, \"Dimensions\": {\"Algorithm\": \"Linear Learner\", \"Host\": \"algo-1\", \"Operation\": \"training\", \"epoch\": 4, \"model\": 20}, \"Metrics\": {\"train_absolute_loss_objective\": {\"sum\": 0.3697740697860718, \"count\": 1, \"min\": 0.3697740697860718, \"max\": 0.3697740697860718}}}\n",
      "\u001b[0m\n",
      "\u001b[34m#metrics {\"StartTime\": 1616690056.9170609, \"EndTime\": 1616690056.9170678, \"Dimensions\": {\"Algorithm\": \"Linear Learner\", \"Host\": \"algo-1\", \"Operation\": \"training\", \"epoch\": 4, \"model\": 21}, \"Metrics\": {\"train_absolute_loss_objective\": {\"sum\": 0.49753320693969727, \"count\": 1, \"min\": 0.49753320693969727, \"max\": 0.49753320693969727}}}\n",
      "\u001b[0m\n",
      "\u001b[34m#metrics {\"StartTime\": 1616690056.91709, \"EndTime\": 1616690056.9170966, \"Dimensions\": {\"Algorithm\": \"Linear Learner\", \"Host\": \"algo-1\", \"Operation\": \"training\", \"epoch\": 4, \"model\": 22}, \"Metrics\": {\"train_absolute_loss_objective\": {\"sum\": 0.4064100456237793, \"count\": 1, \"min\": 0.4064100456237793, \"max\": 0.4064100456237793}}}\n",
      "\u001b[0m\n",
      "\u001b[34m#metrics {\"StartTime\": 1616690056.9171185, \"EndTime\": 1616690056.9171252, \"Dimensions\": {\"Algorithm\": \"Linear Learner\", \"Host\": \"algo-1\", \"Operation\": \"training\", \"epoch\": 4, \"model\": 23}, \"Metrics\": {\"train_absolute_loss_objective\": {\"sum\": 0.5285487365722656, \"count\": 1, \"min\": 0.5285487365722656, \"max\": 0.5285487365722656}}}\n",
      "\u001b[0m\n",
      "\u001b[34m#metrics {\"StartTime\": 1616690056.9171684, \"EndTime\": 1616690056.917184, \"Dimensions\": {\"Algorithm\": \"Linear Learner\", \"Host\": \"algo-1\", \"Operation\": \"training\", \"epoch\": 4, \"model\": 24}, \"Metrics\": {\"train_absolute_loss_objective\": {\"sum\": 0.8927187442779541, \"count\": 1, \"min\": 0.8927187442779541, \"max\": 0.8927187442779541}}}\n",
      "\u001b[0m\n",
      "\u001b[34m#metrics {\"StartTime\": 1616690056.9172266, \"EndTime\": 1616690056.9172363, \"Dimensions\": {\"Algorithm\": \"Linear Learner\", \"Host\": \"algo-1\", \"Operation\": \"training\", \"epoch\": 4, \"model\": 25}, \"Metrics\": {\"train_absolute_loss_objective\": {\"sum\": 0.8760237979888916, \"count\": 1, \"min\": 0.8760237979888916, \"max\": 0.8760237979888916}}}\n",
      "\u001b[0m\n",
      "\u001b[34m#metrics {\"StartTime\": 1616690056.9172611, \"EndTime\": 1616690056.9172685, \"Dimensions\": {\"Algorithm\": \"Linear Learner\", \"Host\": \"algo-1\", \"Operation\": \"training\", \"epoch\": 4, \"model\": 26}, \"Metrics\": {\"train_absolute_loss_objective\": {\"sum\": 0.8849358749389649, \"count\": 1, \"min\": 0.8849358749389649, \"max\": 0.8849358749389649}}}\n",
      "\u001b[0m\n",
      "\u001b[34m#metrics {\"StartTime\": 1616690056.9172914, \"EndTime\": 1616690056.9172988, \"Dimensions\": {\"Algorithm\": \"Linear Learner\", \"Host\": \"algo-1\", \"Operation\": \"training\", \"epoch\": 4, \"model\": 27}, \"Metrics\": {\"train_absolute_loss_objective\": {\"sum\": 0.880529203414917, \"count\": 1, \"min\": 0.880529203414917, \"max\": 0.880529203414917}}}\n",
      "\u001b[0m\n",
      "\u001b[34m#metrics {\"StartTime\": 1616690056.917321, \"EndTime\": 1616690056.9173276, \"Dimensions\": {\"Algorithm\": \"Linear Learner\", \"Host\": \"algo-1\", \"Operation\": \"training\", \"epoch\": 4, \"model\": 28}, \"Metrics\": {\"train_absolute_loss_objective\": {\"sum\": 0.8890591049194336, \"count\": 1, \"min\": 0.8890591049194336, \"max\": 0.8890591049194336}}}\n",
      "\u001b[0m\n",
      "\u001b[34m#metrics {\"StartTime\": 1616690056.91735, \"EndTime\": 1616690056.917357, \"Dimensions\": {\"Algorithm\": \"Linear Learner\", \"Host\": \"algo-1\", \"Operation\": \"training\", \"epoch\": 4, \"model\": 29}, \"Metrics\": {\"train_absolute_loss_objective\": {\"sum\": 0.8896434879302979, \"count\": 1, \"min\": 0.8896434879302979, \"max\": 0.8896434879302979}}}\n",
      "\u001b[0m\n",
      "\u001b[34m#metrics {\"StartTime\": 1616690056.917381, \"EndTime\": 1616690056.917388, \"Dimensions\": {\"Algorithm\": \"Linear Learner\", \"Host\": \"algo-1\", \"Operation\": \"training\", \"epoch\": 4, \"model\": 30}, \"Metrics\": {\"train_absolute_loss_objective\": {\"sum\": 0.8852262878417969, \"count\": 1, \"min\": 0.8852262878417969, \"max\": 0.8852262878417969}}}\n",
      "\u001b[0m\n",
      "\u001b[34m#metrics {\"StartTime\": 1616690056.9174109, \"EndTime\": 1616690056.9174178, \"Dimensions\": {\"Algorithm\": \"Linear Learner\", \"Host\": \"algo-1\", \"Operation\": \"training\", \"epoch\": 4, \"model\": 31}, \"Metrics\": {\"train_absolute_loss_objective\": {\"sum\": 0.8791898536682129, \"count\": 1, \"min\": 0.8791898536682129, \"max\": 0.8791898536682129}}}\n",
      "\u001b[0m\n",
      "\u001b[34m[03/25/2021 16:34:16 INFO 140014102267712] #quality_metric: host=algo-1, epoch=4, train absolute_loss_objective <loss>=0.7969406890869141\u001b[0m\n",
      "\u001b[34m[03/25/2021 16:34:16 INFO 140014102267712] #early_stopping_criteria_metric: host=algo-1, epoch=4, criteria=absolute_loss_objective, value=0.22499873638153076\u001b[0m\n",
      "\u001b[34m[03/25/2021 16:34:16 INFO 140014102267712] Epoch 4: Loss improved. Updating best model\u001b[0m\n",
      "\u001b[34m[03/25/2021 16:34:16 INFO 140014102267712] Saving model for epoch: 4\u001b[0m\n",
      "\u001b[34m[03/25/2021 16:34:16 INFO 140014102267712] Saved checkpoint to \"/tmp/tmpqy5p156f/mx-mod-0000.params\"\u001b[0m\n",
      "\u001b[34m[03/25/2021 16:34:16 INFO 140014102267712] #progress_metric: host=algo-1, completed 100.0 % of epochs\u001b[0m\n",
      "\u001b[34m#metrics {\"StartTime\": 1616690056.8009272, \"EndTime\": 1616690056.9243445, \"Dimensions\": {\"Algorithm\": \"Linear Learner\", \"Host\": \"algo-1\", \"Operation\": \"training\", \"epoch\": 4, \"Meta\": \"training_data_iter\"}, \"Metrics\": {\"Total Records Seen\": {\"sum\": 173.0, \"count\": 1, \"min\": 173, \"max\": 173}, \"Total Batches Seen\": {\"sum\": 37.0, \"count\": 1, \"min\": 37, \"max\": 37}, \"Max Records Seen Between Resets\": {\"sum\": 28.0, \"count\": 1, \"min\": 28, \"max\": 28}, \"Max Batches Seen Between Resets\": {\"sum\": 6.0, \"count\": 1, \"min\": 6, \"max\": 6}, \"Reset Count\": {\"sum\": 7.0, \"count\": 1, \"min\": 7, \"max\": 7}, \"Number of Records Since Last Reset\": {\"sum\": 28.0, \"count\": 1, \"min\": 28, \"max\": 28}, \"Number of Batches Since Last Reset\": {\"sum\": 6.0, \"count\": 1, \"min\": 6, \"max\": 6}}}\n",
      "\u001b[0m\n",
      "\u001b[34m[03/25/2021 16:34:16 INFO 140014102267712] #throughput_metric: host=algo-1, train throughput=226.65568904457245 records/second\u001b[0m\n",
      "\u001b[34m[03/25/2021 16:34:16 WARNING 140014102267712] wait_for_all_workers will not sync workers since the kv store is not running distributed\u001b[0m\n",
      "\u001b[34m[03/25/2021 16:34:16 WARNING 140014102267712] wait_for_all_workers will not sync workers since the kv store is not running distributed\u001b[0m\n",
      "\u001b[34m[2021-03-25 16:34:16.925] [tensorio] [info] epoch_stats={\"data_pipeline\": \"/opt/ml/input/data/train\", \"epoch\": 14, \"duration\": 0, \"num_examples\": 1, \"num_bytes\": 240}\u001b[0m\n",
      "\u001b[34m[2021-03-25 16:34:16.932] [tensorio] [info] epoch_stats={\"data_pipeline\": \"/opt/ml/input/data/train\", \"epoch\": 16, \"duration\": 5, \"num_examples\": 6, \"num_bytes\": 1344}\u001b[0m\n",
      "\u001b[34m[03/25/2021 16:34:16 INFO 140014102267712] #train_score (algo-1) : ('absolute_loss_objective', 5730.828404017857)\u001b[0m\n",
      "\u001b[34m[03/25/2021 16:34:16 INFO 140014102267712] #train_score (algo-1) : ('mse', 44992140.0)\u001b[0m\n",
      "\u001b[34m[03/25/2021 16:34:16 INFO 140014102267712] #train_score (algo-1) : ('absolute_loss', 5730.828404017857)\u001b[0m\n",
      "\u001b[34m[03/25/2021 16:34:16 INFO 140014102267712] #quality_metric: host=algo-1, train absolute_loss_objective <loss>=5730.828404017857\u001b[0m\n",
      "\u001b[34m[03/25/2021 16:34:16 INFO 140014102267712] #quality_metric: host=algo-1, train mse <loss>=44992140.0\u001b[0m\n",
      "\u001b[34m[03/25/2021 16:34:16 INFO 140014102267712] #quality_metric: host=algo-1, train absolute_loss <loss>=5730.828404017857\u001b[0m\n",
      "\u001b[34m[03/25/2021 16:34:16 INFO 140014102267712] Best model found for hyperparameters: {\"optimizer\": \"adam\", \"learning_rate\": 0.1, \"wd\": 0.01, \"l1\": 0.0, \"lr_scheduler_step\": 100, \"lr_scheduler_factor\": 0.99, \"lr_scheduler_minimum_lr\": 0.0001}\u001b[0m\n",
      "\u001b[34m[03/25/2021 16:34:16 INFO 140014102267712] Saved checkpoint to \"/tmp/tmpaf_i0spq/mx-mod-0000.params\"\u001b[0m\n",
      "\u001b[34m[03/25/2021 16:34:16 INFO 140014102267712] Test data is not provided.\u001b[0m\n",
      "\u001b[34m#metrics {\"StartTime\": 1616690056.115512, \"EndTime\": 1616690056.9378514, \"Dimensions\": {\"Algorithm\": \"Linear Learner\", \"Host\": \"algo-1\", \"Operation\": \"training\"}, \"Metrics\": {\"initialize.time\": {\"sum\": 181.22005462646484, \"count\": 1, \"min\": 181.22005462646484, \"max\": 181.22005462646484}, \"epochs\": {\"sum\": 5.0, \"count\": 1, \"min\": 5, \"max\": 5}, \"check_early_stopping.time\": {\"sum\": 5.27501106262207, \"count\": 5, \"min\": 0.9410381317138672, \"max\": 1.318216323852539}, \"update.time\": {\"sum\": 605.0212383270264, \"count\": 5, \"min\": 106.49847984313965, \"max\": 136.6558074951172}, \"finalize.time\": {\"sum\": 8.933544158935547, \"count\": 1, \"min\": 8.933544158935547, \"max\": 8.933544158935547}, \"setuptime\": {\"sum\": 34.46030616760254, \"count\": 1, \"min\": 34.46030616760254, \"max\": 34.46030616760254}, \"totaltime\": {\"sum\": 1124.4208812713623, \"count\": 1, \"min\": 1124.4208812713623, \"max\": 1124.4208812713623}}}\n",
      "\u001b[0m\n"
     ]
    },
    {
     "name": "stdout",
     "output_type": "stream",
     "text": [
      "\n",
      "2021-03-25 16:34:29 Uploading - Uploading generated training model\n",
      "2021-03-25 16:34:29 Completed - Training job completed\n",
      "Training seconds: 58\n",
      "Billable seconds: 58\n"
     ]
    }
   ],
   "source": [
    "# We have pass in the container, the type of instance that we would like to use for training \n",
    "# output path and sagemaker session into the Estimator. \n",
    "# We can also specify how many instances we would like to use for training\n",
    "# sagemaker_session = sagemaker.Session()\n",
    "\n",
    "linear = sagemaker.estimator.Estimator(container,\n",
    "                                       role, \n",
    "                                       train_instance_count = 1, \n",
    "                                       train_instance_type = 'ml.c4.xlarge',\n",
    "                                       output_path = output_location,\n",
    "                                       sagemaker_session = sagemaker_session)\n",
    "\n",
    "\n",
    "# We can tune parameters like the number of features that we are passing in, type of predictor like 'regressor' or 'classifier', mini batch size, epochs\n",
    "# Train 32 different versions of the model and will get the best out of them (built-in parameters optimization!)\n",
    "\n",
    "linear.set_hyperparameters(feature_dim = 1,\n",
    "                           predictor_type = 'regressor',\n",
    "                           mini_batch_size = 5,\n",
    "                           epochs = 5,\n",
    "                           num_models = 32,\n",
    "                           loss = 'absolute_loss')\n",
    "\n",
    "# Now we are ready to pass in the training data from S3 to train the linear learner model\n",
    "\n",
    "linear.fit({'train': s3_train_data})\n",
    "\n",
    "# Let's see the progress using cloudwatch logs"
   ]
  },
  {
   "cell_type": "markdown",
   "metadata": {},
   "source": [
    "MINI CHALLENGE\n",
    "- Try to train the model with more epochs and additional number of models\n",
    "- Can you try to reduce the cost of billable seconds?"
   ]
  },
  {
   "cell_type": "code",
   "execution_count": null,
   "metadata": {},
   "outputs": [],
   "source": []
  },
  {
   "cell_type": "markdown",
   "metadata": {},
   "source": [
    "# TASK #8: DEPLOY AND TEST THE TRAINED LINEAR LEARNER MODEL "
   ]
  },
  {
   "cell_type": "code",
   "execution_count": 49,
   "metadata": {},
   "outputs": [
    {
     "name": "stdout",
     "output_type": "stream",
     "text": [
      "---------------!"
     ]
    }
   ],
   "source": [
    "# Deploying the model to perform inference \n",
    "\n",
    "linear_regressor = linear.deploy(initial_instance_count = 1,\n",
    "                                          instance_type = 'ml.m4.xlarge')"
   ]
  },
  {
   "cell_type": "code",
   "execution_count": 52,
   "metadata": {},
   "outputs": [],
   "source": [
    "from sagemaker.predictor import csv_serializer, json_deserializer\n",
    "\n",
    "# Content type overrides the data that will be passed to the deployed model, since the deployed model expects data in text/csv format.\n",
    "\n",
    "# Serializer accepts a single argument, the input data, and returns a sequence of bytes in the specified content type\n",
    "\n",
    "# Deserializer accepts two arguments, the result data and the response content type, and return a sequence of bytes in the specified content type.\n",
    "\n",
    "# Reference: https://sagemaker.readthedocs.io/en/stable/predictors.html\n",
    "\n",
    "# linear_regressor.content_type = 'text/csv'\n",
    "linear_regressor.serializer = csv_serializer\n",
    "linear_regressor.deserializer = json_deserializer"
   ]
  },
  {
   "cell_type": "code",
   "execution_count": 53,
   "metadata": {},
   "outputs": [
    {
     "name": "stderr",
     "output_type": "stream",
     "text": [
      "The csv_serializer has been renamed in sagemaker>=2.\n",
      "See: https://sagemaker.readthedocs.io/en/stable/v2.html for details.\n",
      "The json_deserializer has been renamed in sagemaker>=2.\n",
      "See: https://sagemaker.readthedocs.io/en/stable/v2.html for details.\n"
     ]
    }
   ],
   "source": [
    "# making prediction on the test data\n",
    "\n",
    "result = linear_regressor.predict(X_test)"
   ]
  },
  {
   "cell_type": "code",
   "execution_count": 54,
   "metadata": {},
   "outputs": [
    {
     "data": {
      "text/plain": [
       "{'predictions': [{'score': 110375.671875},\n",
       "  {'score': 95310.7265625},\n",
       "  {'score': 144271.78125},\n",
       "  {'score': 49174.34375},\n",
       "  {'score': 47291.2265625},\n",
       "  {'score': 67063.9609375},\n",
       "  {'score': 155570.5}]}"
      ]
     },
     "execution_count": 54,
     "metadata": {},
     "output_type": "execute_result"
    }
   ],
   "source": [
    "result # results are in Json format"
   ]
  },
  {
   "cell_type": "code",
   "execution_count": 55,
   "metadata": {},
   "outputs": [],
   "source": [
    "# Since the result is in json format, we access the scores by iterating through the scores in the predictions\n",
    "\n",
    "predictions = np.array([r['score'] for r in result['predictions']])"
   ]
  },
  {
   "cell_type": "code",
   "execution_count": 56,
   "metadata": {},
   "outputs": [
    {
     "data": {
      "text/plain": [
       "array([110375.671875 ,  95310.7265625, 144271.78125  ,  49174.34375  ,\n",
       "        47291.2265625,  67063.9609375, 155570.5      ])"
      ]
     },
     "execution_count": 56,
     "metadata": {},
     "output_type": "execute_result"
    }
   ],
   "source": [
    "predictions"
   ]
  },
  {
   "cell_type": "code",
   "execution_count": 57,
   "metadata": {
    "scrolled": true
   },
   "outputs": [
    {
     "data": {
      "text/plain": [
       "(7,)"
      ]
     },
     "execution_count": 57,
     "metadata": {},
     "output_type": "execute_result"
    }
   ],
   "source": [
    "predictions.shape"
   ]
  },
  {
   "cell_type": "code",
   "execution_count": 58,
   "metadata": {},
   "outputs": [
    {
     "data": {
      "text/plain": [
       "Text(0.5, 1.0, 'Salary vs. Years of Experience')"
      ]
     },
     "execution_count": 58,
     "metadata": {},
     "output_type": "execute_result"
    },
    {
     "data": {
      "image/png": "[encoded data removed]",
      "text/plain": [
       "<Figure size 432x288 with 1 Axes>"
      ]
     },
     "metadata": {
      "needs_background": "light"
     },
     "output_type": "display_data"
    }
   ],
   "source": [
    "# VISUALIZE TEST SET RESULTS\n",
    "plt.scatter(X_test, y_test, color = 'gray')\n",
    "plt.plot(X_test, predictions, color = 'red')\n",
    "plt.xlabel('Years of Experience (Testing Dataset)')\n",
    "plt.ylabel('salary')\n",
    "plt.title('Salary vs. Years of Experience')"
   ]
  },
  {
   "cell_type": "code",
   "execution_count": 59,
   "metadata": {},
   "outputs": [],
   "source": [
    "# Delete the end-point\n",
    "\n",
    "linear_regressor.delete_endpoint()"
   ]
  },
  {
   "cell_type": "markdown",
   "metadata": {},
   "source": [
    "# EXCELLENT JOB! NOW YOU'RE FAMILIAR WITH SAGEMAKER LINEAR LEARNER, YOU SHOULD BE PROUD OF YOUR NEWLY ACQUIRED SKILLS"
   ]
  }
 ],
 "metadata": {
  "colab": {
   "collapsed_sections": [],
   "name": "Graduate_Admission_Prediction.ipynb",
   "provenance": [],
   "toc_visible": true
  },
  "instance_type": "ml.t3.medium",
  "kernelspec": {
   "display_name": "Python 3 (ipykernel)",
   "language": "python",
   "name": "python3"
  },
  "language_info": {
   "codemirror_mode": {
    "name": "ipython",
    "version": 3
   },
   "file_extension": ".py",
   "mimetype": "text/x-python",
   "name": "python",
   "nbconvert_exporter": "python",
   "pygments_lexer": "ipython3",
   "version": "3.10.6"
  }
 },
 "nbformat": 4,
 "nbformat_minor": 4
}
